{
 "cells": [
  {
   "cell_type": "code",
   "execution_count": 7,
   "metadata": {
    "collapsed": true
   },
   "outputs": [],
   "source": [
    "import json\n",
    "import httpx\n",
    "import requests\n",
    "from hyper.contrib import HTTP20Adapter\n",
    "from tornado.escape import utf8\n"
   ]
  },
  {
   "cell_type": "code",
   "execution_count": 22,
   "outputs": [
    {
     "name": "stdout",
     "output_type": "stream",
     "text": [
      "405\n",
      "<urllib3.response.HTTPResponse object at 0x000001F2976BB910>\n",
      "11\n",
      "https://dashboardservice.pod.ir/v1/userreport/1414/getCSV\n"
     ]
    }
   ],
   "source": [
    "# is requests support http2\n",
    "s = requests.Session()\n",
    "# s.mount('https://', HTTP20Adapter())\n",
    "# r = s.get('https://cloudflare.com/')\n",
    "r = s.get('https://dashboardservice.pod.ir/v1/userreport/1414/getCSV')\n",
    "print(r.status_code)\n",
    "print(r.raw)\n",
    "print(r.raw.version)\n",
    "print(r.url)"
   ],
   "metadata": {
    "collapsed": false,
    "pycharm": {
     "name": "#%%\n"
    }
   }
  },
  {
   "cell_type": "code",
   "execution_count": 12,
   "outputs": [
    {
     "ename": "ConnectTimeout",
     "evalue": "",
     "output_type": "error",
     "traceback": [
      "\u001B[1;31m---------------------------------------------------------------------------\u001B[0m",
      "\u001B[1;31mCancelledError\u001B[0m                            Traceback (most recent call last)",
      "\u001B[1;32mD:\\app\\python38\\lib\\site-packages\\httpcore\\backends\\asyncio.py\u001B[0m in \u001B[0;36mconnect_tcp\u001B[1;34m(self, host, port, timeout, local_address)\u001B[0m\n\u001B[0;32m    100\u001B[0m             \u001B[1;32mwith\u001B[0m \u001B[0manyio\u001B[0m\u001B[1;33m.\u001B[0m\u001B[0mfail_after\u001B[0m\u001B[1;33m(\u001B[0m\u001B[0mtimeout\u001B[0m\u001B[1;33m)\u001B[0m\u001B[1;33m:\u001B[0m\u001B[1;33m\u001B[0m\u001B[1;33m\u001B[0m\u001B[0m\n\u001B[1;32m--> 101\u001B[1;33m                 stream: anyio.abc.ByteStream = await anyio.connect_tcp(\n\u001B[0m\u001B[0;32m    102\u001B[0m                     \u001B[0mremote_host\u001B[0m\u001B[1;33m=\u001B[0m\u001B[0mhost\u001B[0m\u001B[1;33m,\u001B[0m\u001B[1;33m\u001B[0m\u001B[1;33m\u001B[0m\u001B[0m\n",
      "\u001B[1;32mD:\\app\\python38\\lib\\site-packages\\anyio\\_core\\_sockets.py\u001B[0m in \u001B[0;36mconnect_tcp\u001B[1;34m(remote_host, remote_port, local_host, tls, ssl_context, tls_standard_compatible, tls_hostname, happy_eyeballs_delay)\u001B[0m\n\u001B[0;32m    151\u001B[0m         \u001B[1;31m# getaddrinfo() will raise an exception if name resolution fails\u001B[0m\u001B[1;33m\u001B[0m\u001B[1;33m\u001B[0m\u001B[1;33m\u001B[0m\u001B[0m\n\u001B[1;32m--> 152\u001B[1;33m         gai_res = await getaddrinfo(target_host, remote_port, family=family,\n\u001B[0m\u001B[0;32m    153\u001B[0m                                     type=socket.SOCK_STREAM)\n",
      "\u001B[1;32mD:\\app\\python38\\lib\\site-packages\\anyio\\_core\\_sockets.py\u001B[0m in \u001B[0;36mgetaddrinfo\u001B[1;34m(host, port, family, type, proto, flags)\u001B[0m\n\u001B[0;32m    418\u001B[0m \u001B[1;33m\u001B[0m\u001B[0m\n\u001B[1;32m--> 419\u001B[1;33m     gai_res = await get_asynclib().getaddrinfo(encoded_host, port, family=family, type=type,\n\u001B[0m\u001B[0;32m    420\u001B[0m                                                proto=proto, flags=flags)\n",
      "\u001B[1;32mD:\\app\\python38\\lib\\site-packages\\anyio\\_backends\\_asyncio.py\u001B[0m in \u001B[0;36mgetaddrinfo\u001B[1;34m(host, port, family, type, proto, flags)\u001B[0m\n\u001B[0;32m   1569\u001B[0m     \u001B[1;31m# https://github.com/python/typeshed/pull/4304\u001B[0m\u001B[1;33m\u001B[0m\u001B[1;33m\u001B[0m\u001B[1;33m\u001B[0m\u001B[0m\n\u001B[1;32m-> 1570\u001B[1;33m     result = await get_running_loop().getaddrinfo(\n\u001B[0m\u001B[0;32m   1571\u001B[0m         host, port, family=family, type=type, proto=proto, flags=flags)  # type: ignore[arg-type]\n",
      "\u001B[1;32mD:\\app\\python38\\lib\\asyncio\\base_events.py\u001B[0m in \u001B[0;36mgetaddrinfo\u001B[1;34m(self, host, port, family, type, proto, flags)\u001B[0m\n\u001B[0;32m    824\u001B[0m \u001B[1;33m\u001B[0m\u001B[0m\n\u001B[1;32m--> 825\u001B[1;33m         return await self.run_in_executor(\n\u001B[0m\u001B[0;32m    826\u001B[0m             None, getaddr_func, host, port, family, type, proto, flags)\n",
      "\u001B[1;31mCancelledError\u001B[0m: ",
      "\nDuring handling of the above exception, another exception occurred:\n",
      "\u001B[1;31mTimeoutError\u001B[0m                              Traceback (most recent call last)",
      "\u001B[1;32mD:\\app\\python38\\lib\\site-packages\\httpcore\\_exceptions.py\u001B[0m in \u001B[0;36mmap_exceptions\u001B[1;34m(map)\u001B[0m\n\u001B[0;32m      7\u001B[0m     \u001B[1;32mtry\u001B[0m\u001B[1;33m:\u001B[0m\u001B[1;33m\u001B[0m\u001B[1;33m\u001B[0m\u001B[0m\n\u001B[1;32m----> 8\u001B[1;33m         \u001B[1;32myield\u001B[0m\u001B[1;33m\u001B[0m\u001B[1;33m\u001B[0m\u001B[0m\n\u001B[0m\u001B[0;32m      9\u001B[0m     \u001B[1;32mexcept\u001B[0m \u001B[0mException\u001B[0m \u001B[1;32mas\u001B[0m \u001B[0mexc\u001B[0m\u001B[1;33m:\u001B[0m  \u001B[1;31m# noqa: PIE786\u001B[0m\u001B[1;33m\u001B[0m\u001B[1;33m\u001B[0m\u001B[0m\n",
      "\u001B[1;32mD:\\app\\python38\\lib\\site-packages\\httpcore\\backends\\asyncio.py\u001B[0m in \u001B[0;36mconnect_tcp\u001B[1;34m(self, host, port, timeout, local_address)\u001B[0m\n\u001B[0;32m    100\u001B[0m             \u001B[1;32mwith\u001B[0m \u001B[0manyio\u001B[0m\u001B[1;33m.\u001B[0m\u001B[0mfail_after\u001B[0m\u001B[1;33m(\u001B[0m\u001B[0mtimeout\u001B[0m\u001B[1;33m)\u001B[0m\u001B[1;33m:\u001B[0m\u001B[1;33m\u001B[0m\u001B[1;33m\u001B[0m\u001B[0m\n\u001B[1;32m--> 101\u001B[1;33m                 stream: anyio.abc.ByteStream = await anyio.connect_tcp(\n\u001B[0m\u001B[0;32m    102\u001B[0m                     \u001B[0mremote_host\u001B[0m\u001B[1;33m=\u001B[0m\u001B[0mhost\u001B[0m\u001B[1;33m,\u001B[0m\u001B[1;33m\u001B[0m\u001B[1;33m\u001B[0m\u001B[0m\n",
      "\u001B[1;32mD:\\app\\python38\\lib\\site-packages\\anyio\\_core\\_tasks.py\u001B[0m in \u001B[0;36m__exit__\u001B[1;34m(self, exc_type, exc_val, exc_tb)\u001B[0m\n\u001B[0;32m    102\u001B[0m         \u001B[1;32mif\u001B[0m \u001B[0mself\u001B[0m\u001B[1;33m.\u001B[0m\u001B[0m_cancel_scope\u001B[0m\u001B[1;33m.\u001B[0m\u001B[0mcancel_called\u001B[0m\u001B[1;33m:\u001B[0m\u001B[1;33m\u001B[0m\u001B[1;33m\u001B[0m\u001B[0m\n\u001B[1;32m--> 103\u001B[1;33m             \u001B[1;32mraise\u001B[0m \u001B[0mTimeoutError\u001B[0m\u001B[1;33m\u001B[0m\u001B[1;33m\u001B[0m\u001B[0m\n\u001B[0m\u001B[0;32m    104\u001B[0m \u001B[1;33m\u001B[0m\u001B[0m\n",
      "\u001B[1;31mTimeoutError\u001B[0m: ",
      "\nDuring handling of the above exception, another exception occurred:\n",
      "\u001B[1;31mConnectTimeout\u001B[0m                            Traceback (most recent call last)",
      "\u001B[1;32mD:\\app\\python38\\lib\\site-packages\\httpx\\_transports\\default.py\u001B[0m in \u001B[0;36mmap_httpcore_exceptions\u001B[1;34m()\u001B[0m\n\u001B[0;32m     59\u001B[0m     \u001B[1;32mtry\u001B[0m\u001B[1;33m:\u001B[0m\u001B[1;33m\u001B[0m\u001B[1;33m\u001B[0m\u001B[0m\n\u001B[1;32m---> 60\u001B[1;33m         \u001B[1;32myield\u001B[0m\u001B[1;33m\u001B[0m\u001B[1;33m\u001B[0m\u001B[0m\n\u001B[0m\u001B[0;32m     61\u001B[0m     \u001B[1;32mexcept\u001B[0m \u001B[0mException\u001B[0m \u001B[1;32mas\u001B[0m \u001B[0mexc\u001B[0m\u001B[1;33m:\u001B[0m  \u001B[1;31m# noqa: PIE-786\u001B[0m\u001B[1;33m\u001B[0m\u001B[1;33m\u001B[0m\u001B[0m\n",
      "\u001B[1;32mD:\\app\\python38\\lib\\site-packages\\httpx\\_transports\\default.py\u001B[0m in \u001B[0;36mhandle_async_request\u001B[1;34m(self, request)\u001B[0m\n\u001B[0;32m    352\u001B[0m         \u001B[1;32mwith\u001B[0m \u001B[0mmap_httpcore_exceptions\u001B[0m\u001B[1;33m(\u001B[0m\u001B[1;33m)\u001B[0m\u001B[1;33m:\u001B[0m\u001B[1;33m\u001B[0m\u001B[1;33m\u001B[0m\u001B[0m\n\u001B[1;32m--> 353\u001B[1;33m             \u001B[0mresp\u001B[0m \u001B[1;33m=\u001B[0m \u001B[1;32mawait\u001B[0m \u001B[0mself\u001B[0m\u001B[1;33m.\u001B[0m\u001B[0m_pool\u001B[0m\u001B[1;33m.\u001B[0m\u001B[0mhandle_async_request\u001B[0m\u001B[1;33m(\u001B[0m\u001B[0mreq\u001B[0m\u001B[1;33m)\u001B[0m\u001B[1;33m\u001B[0m\u001B[1;33m\u001B[0m\u001B[0m\n\u001B[0m\u001B[0;32m    354\u001B[0m \u001B[1;33m\u001B[0m\u001B[0m\n",
      "\u001B[1;32mD:\\app\\python38\\lib\\site-packages\\httpcore\\_async\\connection_pool.py\u001B[0m in \u001B[0;36mhandle_async_request\u001B[1;34m(self, request)\u001B[0m\n\u001B[0;32m    252\u001B[0m                 \u001B[1;32mawait\u001B[0m \u001B[0mself\u001B[0m\u001B[1;33m.\u001B[0m\u001B[0mresponse_closed\u001B[0m\u001B[1;33m(\u001B[0m\u001B[0mstatus\u001B[0m\u001B[1;33m)\u001B[0m\u001B[1;33m\u001B[0m\u001B[1;33m\u001B[0m\u001B[0m\n\u001B[1;32m--> 253\u001B[1;33m                 \u001B[1;32mraise\u001B[0m \u001B[0mexc\u001B[0m\u001B[1;33m\u001B[0m\u001B[1;33m\u001B[0m\u001B[0m\n\u001B[0m\u001B[0;32m    254\u001B[0m             \u001B[1;32melse\u001B[0m\u001B[1;33m:\u001B[0m\u001B[1;33m\u001B[0m\u001B[1;33m\u001B[0m\u001B[0m\n",
      "\u001B[1;32mD:\\app\\python38\\lib\\site-packages\\httpcore\\_async\\connection_pool.py\u001B[0m in \u001B[0;36mhandle_async_request\u001B[1;34m(self, request)\u001B[0m\n\u001B[0;32m    236\u001B[0m             \u001B[1;32mtry\u001B[0m\u001B[1;33m:\u001B[0m\u001B[1;33m\u001B[0m\u001B[1;33m\u001B[0m\u001B[0m\n\u001B[1;32m--> 237\u001B[1;33m                 \u001B[0mresponse\u001B[0m \u001B[1;33m=\u001B[0m \u001B[1;32mawait\u001B[0m \u001B[0mconnection\u001B[0m\u001B[1;33m.\u001B[0m\u001B[0mhandle_async_request\u001B[0m\u001B[1;33m(\u001B[0m\u001B[0mrequest\u001B[0m\u001B[1;33m)\u001B[0m\u001B[1;33m\u001B[0m\u001B[1;33m\u001B[0m\u001B[0m\n\u001B[0m\u001B[0;32m    238\u001B[0m             \u001B[1;32mexcept\u001B[0m \u001B[0mConnectionNotAvailable\u001B[0m\u001B[1;33m:\u001B[0m\u001B[1;33m\u001B[0m\u001B[1;33m\u001B[0m\u001B[0m\n",
      "\u001B[1;32mD:\\app\\python38\\lib\\site-packages\\httpcore\\_async\\connection.py\u001B[0m in \u001B[0;36mhandle_async_request\u001B[1;34m(self, request)\u001B[0m\n\u001B[0;32m     85\u001B[0m                     \u001B[0mself\u001B[0m\u001B[1;33m.\u001B[0m\u001B[0m_connect_failed\u001B[0m \u001B[1;33m=\u001B[0m \u001B[1;32mTrue\u001B[0m\u001B[1;33m\u001B[0m\u001B[1;33m\u001B[0m\u001B[0m\n\u001B[1;32m---> 86\u001B[1;33m                     \u001B[1;32mraise\u001B[0m \u001B[0mexc\u001B[0m\u001B[1;33m\u001B[0m\u001B[1;33m\u001B[0m\u001B[0m\n\u001B[0m\u001B[0;32m     87\u001B[0m             \u001B[1;32melif\u001B[0m \u001B[1;32mnot\u001B[0m \u001B[0mself\u001B[0m\u001B[1;33m.\u001B[0m\u001B[0m_connection\u001B[0m\u001B[1;33m.\u001B[0m\u001B[0mis_available\u001B[0m\u001B[1;33m(\u001B[0m\u001B[1;33m)\u001B[0m\u001B[1;33m:\u001B[0m\u001B[1;33m\u001B[0m\u001B[1;33m\u001B[0m\u001B[0m\n",
      "\u001B[1;32mD:\\app\\python38\\lib\\site-packages\\httpcore\\_async\\connection.py\u001B[0m in \u001B[0;36mhandle_async_request\u001B[1;34m(self, request)\u001B[0m\n\u001B[0;32m     62\u001B[0m                 \u001B[1;32mtry\u001B[0m\u001B[1;33m:\u001B[0m\u001B[1;33m\u001B[0m\u001B[1;33m\u001B[0m\u001B[0m\n\u001B[1;32m---> 63\u001B[1;33m                     \u001B[0mstream\u001B[0m \u001B[1;33m=\u001B[0m \u001B[1;32mawait\u001B[0m \u001B[0mself\u001B[0m\u001B[1;33m.\u001B[0m\u001B[0m_connect\u001B[0m\u001B[1;33m(\u001B[0m\u001B[0mrequest\u001B[0m\u001B[1;33m)\u001B[0m\u001B[1;33m\u001B[0m\u001B[1;33m\u001B[0m\u001B[0m\n\u001B[0m\u001B[0;32m     64\u001B[0m \u001B[1;33m\u001B[0m\u001B[0m\n",
      "\u001B[1;32mD:\\app\\python38\\lib\\site-packages\\httpcore\\_async\\connection.py\u001B[0m in \u001B[0;36m_connect\u001B[1;34m(self, request)\u001B[0m\n\u001B[0;32m    110\u001B[0m                     ) as trace:\n\u001B[1;32m--> 111\u001B[1;33m                         \u001B[0mstream\u001B[0m \u001B[1;33m=\u001B[0m \u001B[1;32mawait\u001B[0m \u001B[0mself\u001B[0m\u001B[1;33m.\u001B[0m\u001B[0m_network_backend\u001B[0m\u001B[1;33m.\u001B[0m\u001B[0mconnect_tcp\u001B[0m\u001B[1;33m(\u001B[0m\u001B[1;33m**\u001B[0m\u001B[0mkwargs\u001B[0m\u001B[1;33m)\u001B[0m\u001B[1;33m\u001B[0m\u001B[1;33m\u001B[0m\u001B[0m\n\u001B[0m\u001B[0;32m    112\u001B[0m                         \u001B[0mtrace\u001B[0m\u001B[1;33m.\u001B[0m\u001B[0mreturn_value\u001B[0m \u001B[1;33m=\u001B[0m \u001B[0mstream\u001B[0m\u001B[1;33m\u001B[0m\u001B[1;33m\u001B[0m\u001B[0m\n",
      "\u001B[1;32mD:\\app\\python38\\lib\\site-packages\\httpcore\\backends\\auto.py\u001B[0m in \u001B[0;36mconnect_tcp\u001B[1;34m(self, host, port, timeout, local_address)\u001B[0m\n\u001B[0;32m     22\u001B[0m         \u001B[1;32mawait\u001B[0m \u001B[0mself\u001B[0m\u001B[1;33m.\u001B[0m\u001B[0m_init_backend\u001B[0m\u001B[1;33m(\u001B[0m\u001B[1;33m)\u001B[0m\u001B[1;33m\u001B[0m\u001B[1;33m\u001B[0m\u001B[0m\n\u001B[1;32m---> 23\u001B[1;33m         return await self._backend.connect_tcp(\n\u001B[0m\u001B[0;32m     24\u001B[0m             \u001B[0mhost\u001B[0m\u001B[1;33m,\u001B[0m \u001B[0mport\u001B[0m\u001B[1;33m,\u001B[0m \u001B[0mtimeout\u001B[0m\u001B[1;33m=\u001B[0m\u001B[0mtimeout\u001B[0m\u001B[1;33m,\u001B[0m \u001B[0mlocal_address\u001B[0m\u001B[1;33m=\u001B[0m\u001B[0mlocal_address\u001B[0m\u001B[1;33m\u001B[0m\u001B[1;33m\u001B[0m\u001B[0m\n",
      "\u001B[1;32mD:\\app\\python38\\lib\\site-packages\\httpcore\\backends\\asyncio.py\u001B[0m in \u001B[0;36mconnect_tcp\u001B[1;34m(self, host, port, timeout, local_address)\u001B[0m\n\u001B[0;32m    100\u001B[0m             \u001B[1;32mwith\u001B[0m \u001B[0manyio\u001B[0m\u001B[1;33m.\u001B[0m\u001B[0mfail_after\u001B[0m\u001B[1;33m(\u001B[0m\u001B[0mtimeout\u001B[0m\u001B[1;33m)\u001B[0m\u001B[1;33m:\u001B[0m\u001B[1;33m\u001B[0m\u001B[1;33m\u001B[0m\u001B[0m\n\u001B[1;32m--> 101\u001B[1;33m                 stream: anyio.abc.ByteStream = await anyio.connect_tcp(\n\u001B[0m\u001B[0;32m    102\u001B[0m                     \u001B[0mremote_host\u001B[0m\u001B[1;33m=\u001B[0m\u001B[0mhost\u001B[0m\u001B[1;33m,\u001B[0m\u001B[1;33m\u001B[0m\u001B[1;33m\u001B[0m\u001B[0m\n",
      "\u001B[1;32mD:\\app\\python38\\lib\\contextlib.py\u001B[0m in \u001B[0;36m__exit__\u001B[1;34m(self, type, value, traceback)\u001B[0m\n\u001B[0;32m    130\u001B[0m             \u001B[1;32mtry\u001B[0m\u001B[1;33m:\u001B[0m\u001B[1;33m\u001B[0m\u001B[1;33m\u001B[0m\u001B[0m\n\u001B[1;32m--> 131\u001B[1;33m                 \u001B[0mself\u001B[0m\u001B[1;33m.\u001B[0m\u001B[0mgen\u001B[0m\u001B[1;33m.\u001B[0m\u001B[0mthrow\u001B[0m\u001B[1;33m(\u001B[0m\u001B[0mtype\u001B[0m\u001B[1;33m,\u001B[0m \u001B[0mvalue\u001B[0m\u001B[1;33m,\u001B[0m \u001B[0mtraceback\u001B[0m\u001B[1;33m)\u001B[0m\u001B[1;33m\u001B[0m\u001B[1;33m\u001B[0m\u001B[0m\n\u001B[0m\u001B[0;32m    132\u001B[0m             \u001B[1;32mexcept\u001B[0m \u001B[0mStopIteration\u001B[0m \u001B[1;32mas\u001B[0m \u001B[0mexc\u001B[0m\u001B[1;33m:\u001B[0m\u001B[1;33m\u001B[0m\u001B[1;33m\u001B[0m\u001B[0m\n",
      "\u001B[1;32mD:\\app\\python38\\lib\\site-packages\\httpcore\\_exceptions.py\u001B[0m in \u001B[0;36mmap_exceptions\u001B[1;34m(map)\u001B[0m\n\u001B[0;32m     11\u001B[0m             \u001B[1;32mif\u001B[0m \u001B[0misinstance\u001B[0m\u001B[1;33m(\u001B[0m\u001B[0mexc\u001B[0m\u001B[1;33m,\u001B[0m \u001B[0mfrom_exc\u001B[0m\u001B[1;33m)\u001B[0m\u001B[1;33m:\u001B[0m\u001B[1;33m\u001B[0m\u001B[1;33m\u001B[0m\u001B[0m\n\u001B[1;32m---> 12\u001B[1;33m                 \u001B[1;32mraise\u001B[0m \u001B[0mto_exc\u001B[0m\u001B[1;33m(\u001B[0m\u001B[0mexc\u001B[0m\u001B[1;33m)\u001B[0m\u001B[1;33m\u001B[0m\u001B[1;33m\u001B[0m\u001B[0m\n\u001B[0m\u001B[0;32m     13\u001B[0m         \u001B[1;32mraise\u001B[0m  \u001B[1;31m# pragma: nocover\u001B[0m\u001B[1;33m\u001B[0m\u001B[1;33m\u001B[0m\u001B[0m\n",
      "\u001B[1;31mConnectTimeout\u001B[0m: ",
      "\nThe above exception was the direct cause of the following exception:\n",
      "\u001B[1;31mConnectTimeout\u001B[0m                            Traceback (most recent call last)",
      "\u001B[1;32m~\\AppData\\Local\\Temp\\ipykernel_23276\\2237119704.py\u001B[0m in \u001B[0;36m<module>\u001B[1;34m\u001B[0m\n\u001B[0;32m      2\u001B[0m \u001B[0mclient\u001B[0m \u001B[1;33m=\u001B[0m \u001B[0mhttpx\u001B[0m\u001B[1;33m.\u001B[0m\u001B[0mAsyncClient\u001B[0m\u001B[1;33m(\u001B[0m\u001B[0mhttp2\u001B[0m\u001B[1;33m=\u001B[0m\u001B[1;32mTrue\u001B[0m\u001B[1;33m)\u001B[0m\u001B[1;33m\u001B[0m\u001B[1;33m\u001B[0m\u001B[0m\n\u001B[0;32m      3\u001B[0m \u001B[1;31m# response = await client.get('https://cloudflare.com/')\u001B[0m\u001B[1;33m\u001B[0m\u001B[1;33m\u001B[0m\u001B[1;33m\u001B[0m\u001B[0m\n\u001B[1;32m----> 4\u001B[1;33m \u001B[0mresponse\u001B[0m \u001B[1;33m=\u001B[0m \u001B[1;32mawait\u001B[0m \u001B[0mclient\u001B[0m\u001B[1;33m.\u001B[0m\u001B[0mget\u001B[0m\u001B[1;33m(\u001B[0m\u001B[1;34m'https://dashboardservice.pod.ir/v1/userreport/1414/getCSV'\u001B[0m\u001B[1;33m)\u001B[0m\u001B[1;33m\u001B[0m\u001B[1;33m\u001B[0m\u001B[0m\n\u001B[0m\u001B[0;32m      5\u001B[0m \u001B[0mprint\u001B[0m\u001B[1;33m(\u001B[0m\u001B[0mresponse\u001B[0m\u001B[1;33m.\u001B[0m\u001B[0mhttp_version\u001B[0m\u001B[1;33m)\u001B[0m\u001B[1;33m\u001B[0m\u001B[1;33m\u001B[0m\u001B[0m\n\u001B[0;32m      6\u001B[0m \u001B[1;33m\u001B[0m\u001B[0m\n",
      "\u001B[1;32mD:\\app\\python38\\lib\\site-packages\\httpx\\_client.py\u001B[0m in \u001B[0;36mget\u001B[1;34m(self, url, params, headers, cookies, auth, follow_redirects, timeout, extensions)\u001B[0m\n\u001B[0;32m   1727\u001B[0m         \u001B[1;33m**\u001B[0m\u001B[0mParameters\u001B[0m\u001B[1;33m**\u001B[0m\u001B[1;33m:\u001B[0m \u001B[0mSee\u001B[0m\u001B[0;31m \u001B[0m\u001B[0;31m`\u001B[0m\u001B[0mhttpx\u001B[0m\u001B[1;33m.\u001B[0m\u001B[0mrequest\u001B[0m\u001B[0;31m`\u001B[0m\u001B[1;33m.\u001B[0m\u001B[1;33m\u001B[0m\u001B[1;33m\u001B[0m\u001B[0m\n\u001B[0;32m   1728\u001B[0m         \"\"\"\n\u001B[1;32m-> 1729\u001B[1;33m         return await self.request(\n\u001B[0m\u001B[0;32m   1730\u001B[0m             \u001B[1;34m\"GET\"\u001B[0m\u001B[1;33m,\u001B[0m\u001B[1;33m\u001B[0m\u001B[1;33m\u001B[0m\u001B[0m\n\u001B[0;32m   1731\u001B[0m             \u001B[0murl\u001B[0m\u001B[1;33m,\u001B[0m\u001B[1;33m\u001B[0m\u001B[1;33m\u001B[0m\u001B[0m\n",
      "\u001B[1;32mD:\\app\\python38\\lib\\site-packages\\httpx\\_client.py\u001B[0m in \u001B[0;36mrequest\u001B[1;34m(self, method, url, content, data, files, json, params, headers, cookies, auth, follow_redirects, timeout, extensions)\u001B[0m\n\u001B[0;32m   1504\u001B[0m             \u001B[0mextensions\u001B[0m\u001B[1;33m=\u001B[0m\u001B[0mextensions\u001B[0m\u001B[1;33m,\u001B[0m\u001B[1;33m\u001B[0m\u001B[1;33m\u001B[0m\u001B[0m\n\u001B[0;32m   1505\u001B[0m         )\n\u001B[1;32m-> 1506\u001B[1;33m         \u001B[1;32mreturn\u001B[0m \u001B[1;32mawait\u001B[0m \u001B[0mself\u001B[0m\u001B[1;33m.\u001B[0m\u001B[0msend\u001B[0m\u001B[1;33m(\u001B[0m\u001B[0mrequest\u001B[0m\u001B[1;33m,\u001B[0m \u001B[0mauth\u001B[0m\u001B[1;33m=\u001B[0m\u001B[0mauth\u001B[0m\u001B[1;33m,\u001B[0m \u001B[0mfollow_redirects\u001B[0m\u001B[1;33m=\u001B[0m\u001B[0mfollow_redirects\u001B[0m\u001B[1;33m)\u001B[0m\u001B[1;33m\u001B[0m\u001B[1;33m\u001B[0m\u001B[0m\n\u001B[0m\u001B[0;32m   1507\u001B[0m \u001B[1;33m\u001B[0m\u001B[0m\n\u001B[0;32m   1508\u001B[0m     \u001B[1;33m@\u001B[0m\u001B[0masynccontextmanager\u001B[0m\u001B[1;33m\u001B[0m\u001B[1;33m\u001B[0m\u001B[0m\n",
      "\u001B[1;32mD:\\app\\python38\\lib\\site-packages\\httpx\\_client.py\u001B[0m in \u001B[0;36msend\u001B[1;34m(self, request, stream, auth, follow_redirects)\u001B[0m\n\u001B[0;32m   1591\u001B[0m         \u001B[0mauth\u001B[0m \u001B[1;33m=\u001B[0m \u001B[0mself\u001B[0m\u001B[1;33m.\u001B[0m\u001B[0m_build_request_auth\u001B[0m\u001B[1;33m(\u001B[0m\u001B[0mrequest\u001B[0m\u001B[1;33m,\u001B[0m \u001B[0mauth\u001B[0m\u001B[1;33m)\u001B[0m\u001B[1;33m\u001B[0m\u001B[1;33m\u001B[0m\u001B[0m\n\u001B[0;32m   1592\u001B[0m \u001B[1;33m\u001B[0m\u001B[0m\n\u001B[1;32m-> 1593\u001B[1;33m         response = await self._send_handling_auth(\n\u001B[0m\u001B[0;32m   1594\u001B[0m             \u001B[0mrequest\u001B[0m\u001B[1;33m,\u001B[0m\u001B[1;33m\u001B[0m\u001B[1;33m\u001B[0m\u001B[0m\n\u001B[0;32m   1595\u001B[0m             \u001B[0mauth\u001B[0m\u001B[1;33m=\u001B[0m\u001B[0mauth\u001B[0m\u001B[1;33m,\u001B[0m\u001B[1;33m\u001B[0m\u001B[1;33m\u001B[0m\u001B[0m\n",
      "\u001B[1;32mD:\\app\\python38\\lib\\site-packages\\httpx\\_client.py\u001B[0m in \u001B[0;36m_send_handling_auth\u001B[1;34m(self, request, auth, follow_redirects, history)\u001B[0m\n\u001B[0;32m   1619\u001B[0m \u001B[1;33m\u001B[0m\u001B[0m\n\u001B[0;32m   1620\u001B[0m             \u001B[1;32mwhile\u001B[0m \u001B[1;32mTrue\u001B[0m\u001B[1;33m:\u001B[0m\u001B[1;33m\u001B[0m\u001B[1;33m\u001B[0m\u001B[0m\n\u001B[1;32m-> 1621\u001B[1;33m                 response = await self._send_handling_redirects(\n\u001B[0m\u001B[0;32m   1622\u001B[0m                     \u001B[0mrequest\u001B[0m\u001B[1;33m,\u001B[0m\u001B[1;33m\u001B[0m\u001B[1;33m\u001B[0m\u001B[0m\n\u001B[0;32m   1623\u001B[0m                     \u001B[0mfollow_redirects\u001B[0m\u001B[1;33m=\u001B[0m\u001B[0mfollow_redirects\u001B[0m\u001B[1;33m,\u001B[0m\u001B[1;33m\u001B[0m\u001B[1;33m\u001B[0m\u001B[0m\n",
      "\u001B[1;32mD:\\app\\python38\\lib\\site-packages\\httpx\\_client.py\u001B[0m in \u001B[0;36m_send_handling_redirects\u001B[1;34m(self, request, follow_redirects, history)\u001B[0m\n\u001B[0;32m   1656\u001B[0m                 \u001B[1;32mawait\u001B[0m \u001B[0mhook\u001B[0m\u001B[1;33m(\u001B[0m\u001B[0mrequest\u001B[0m\u001B[1;33m)\u001B[0m\u001B[1;33m\u001B[0m\u001B[1;33m\u001B[0m\u001B[0m\n\u001B[0;32m   1657\u001B[0m \u001B[1;33m\u001B[0m\u001B[0m\n\u001B[1;32m-> 1658\u001B[1;33m             \u001B[0mresponse\u001B[0m \u001B[1;33m=\u001B[0m \u001B[1;32mawait\u001B[0m \u001B[0mself\u001B[0m\u001B[1;33m.\u001B[0m\u001B[0m_send_single_request\u001B[0m\u001B[1;33m(\u001B[0m\u001B[0mrequest\u001B[0m\u001B[1;33m)\u001B[0m\u001B[1;33m\u001B[0m\u001B[1;33m\u001B[0m\u001B[0m\n\u001B[0m\u001B[0;32m   1659\u001B[0m             \u001B[1;32mtry\u001B[0m\u001B[1;33m:\u001B[0m\u001B[1;33m\u001B[0m\u001B[1;33m\u001B[0m\u001B[0m\n\u001B[0;32m   1660\u001B[0m                 \u001B[1;32mfor\u001B[0m \u001B[0mhook\u001B[0m \u001B[1;32min\u001B[0m \u001B[0mself\u001B[0m\u001B[1;33m.\u001B[0m\u001B[0m_event_hooks\u001B[0m\u001B[1;33m[\u001B[0m\u001B[1;34m\"response\"\u001B[0m\u001B[1;33m]\u001B[0m\u001B[1;33m:\u001B[0m\u001B[1;33m\u001B[0m\u001B[1;33m\u001B[0m\u001B[0m\n",
      "\u001B[1;32mD:\\app\\python38\\lib\\site-packages\\httpx\\_client.py\u001B[0m in \u001B[0;36m_send_single_request\u001B[1;34m(self, request)\u001B[0m\n\u001B[0;32m   1693\u001B[0m \u001B[1;33m\u001B[0m\u001B[0m\n\u001B[0;32m   1694\u001B[0m         \u001B[1;32mwith\u001B[0m \u001B[0mrequest_context\u001B[0m\u001B[1;33m(\u001B[0m\u001B[0mrequest\u001B[0m\u001B[1;33m=\u001B[0m\u001B[0mrequest\u001B[0m\u001B[1;33m)\u001B[0m\u001B[1;33m:\u001B[0m\u001B[1;33m\u001B[0m\u001B[1;33m\u001B[0m\u001B[0m\n\u001B[1;32m-> 1695\u001B[1;33m             \u001B[0mresponse\u001B[0m \u001B[1;33m=\u001B[0m \u001B[1;32mawait\u001B[0m \u001B[0mtransport\u001B[0m\u001B[1;33m.\u001B[0m\u001B[0mhandle_async_request\u001B[0m\u001B[1;33m(\u001B[0m\u001B[0mrequest\u001B[0m\u001B[1;33m)\u001B[0m\u001B[1;33m\u001B[0m\u001B[1;33m\u001B[0m\u001B[0m\n\u001B[0m\u001B[0;32m   1696\u001B[0m \u001B[1;33m\u001B[0m\u001B[0m\n\u001B[0;32m   1697\u001B[0m         \u001B[1;32massert\u001B[0m \u001B[0misinstance\u001B[0m\u001B[1;33m(\u001B[0m\u001B[0mresponse\u001B[0m\u001B[1;33m.\u001B[0m\u001B[0mstream\u001B[0m\u001B[1;33m,\u001B[0m \u001B[0mAsyncByteStream\u001B[0m\u001B[1;33m)\u001B[0m\u001B[1;33m\u001B[0m\u001B[1;33m\u001B[0m\u001B[0m\n",
      "\u001B[1;32mD:\\app\\python38\\lib\\site-packages\\httpx\\_transports\\default.py\u001B[0m in \u001B[0;36mhandle_async_request\u001B[1;34m(self, request)\u001B[0m\n\u001B[0;32m    351\u001B[0m         )\n\u001B[0;32m    352\u001B[0m         \u001B[1;32mwith\u001B[0m \u001B[0mmap_httpcore_exceptions\u001B[0m\u001B[1;33m(\u001B[0m\u001B[1;33m)\u001B[0m\u001B[1;33m:\u001B[0m\u001B[1;33m\u001B[0m\u001B[1;33m\u001B[0m\u001B[0m\n\u001B[1;32m--> 353\u001B[1;33m             \u001B[0mresp\u001B[0m \u001B[1;33m=\u001B[0m \u001B[1;32mawait\u001B[0m \u001B[0mself\u001B[0m\u001B[1;33m.\u001B[0m\u001B[0m_pool\u001B[0m\u001B[1;33m.\u001B[0m\u001B[0mhandle_async_request\u001B[0m\u001B[1;33m(\u001B[0m\u001B[0mreq\u001B[0m\u001B[1;33m)\u001B[0m\u001B[1;33m\u001B[0m\u001B[1;33m\u001B[0m\u001B[0m\n\u001B[0m\u001B[0;32m    354\u001B[0m \u001B[1;33m\u001B[0m\u001B[0m\n\u001B[0;32m    355\u001B[0m         \u001B[1;32massert\u001B[0m \u001B[0misinstance\u001B[0m\u001B[1;33m(\u001B[0m\u001B[0mresp\u001B[0m\u001B[1;33m.\u001B[0m\u001B[0mstream\u001B[0m\u001B[1;33m,\u001B[0m \u001B[0mtyping\u001B[0m\u001B[1;33m.\u001B[0m\u001B[0mAsyncIterable\u001B[0m\u001B[1;33m)\u001B[0m\u001B[1;33m\u001B[0m\u001B[1;33m\u001B[0m\u001B[0m\n",
      "\u001B[1;32mD:\\app\\python38\\lib\\contextlib.py\u001B[0m in \u001B[0;36m__exit__\u001B[1;34m(self, type, value, traceback)\u001B[0m\n\u001B[0;32m    129\u001B[0m                 \u001B[0mvalue\u001B[0m \u001B[1;33m=\u001B[0m \u001B[0mtype\u001B[0m\u001B[1;33m(\u001B[0m\u001B[1;33m)\u001B[0m\u001B[1;33m\u001B[0m\u001B[1;33m\u001B[0m\u001B[0m\n\u001B[0;32m    130\u001B[0m             \u001B[1;32mtry\u001B[0m\u001B[1;33m:\u001B[0m\u001B[1;33m\u001B[0m\u001B[1;33m\u001B[0m\u001B[0m\n\u001B[1;32m--> 131\u001B[1;33m                 \u001B[0mself\u001B[0m\u001B[1;33m.\u001B[0m\u001B[0mgen\u001B[0m\u001B[1;33m.\u001B[0m\u001B[0mthrow\u001B[0m\u001B[1;33m(\u001B[0m\u001B[0mtype\u001B[0m\u001B[1;33m,\u001B[0m \u001B[0mvalue\u001B[0m\u001B[1;33m,\u001B[0m \u001B[0mtraceback\u001B[0m\u001B[1;33m)\u001B[0m\u001B[1;33m\u001B[0m\u001B[1;33m\u001B[0m\u001B[0m\n\u001B[0m\u001B[0;32m    132\u001B[0m             \u001B[1;32mexcept\u001B[0m \u001B[0mStopIteration\u001B[0m \u001B[1;32mas\u001B[0m \u001B[0mexc\u001B[0m\u001B[1;33m:\u001B[0m\u001B[1;33m\u001B[0m\u001B[1;33m\u001B[0m\u001B[0m\n\u001B[0;32m    133\u001B[0m                 \u001B[1;31m# Suppress StopIteration *unless* it's the same exception that\u001B[0m\u001B[1;33m\u001B[0m\u001B[1;33m\u001B[0m\u001B[1;33m\u001B[0m\u001B[0m\n",
      "\u001B[1;32mD:\\app\\python38\\lib\\site-packages\\httpx\\_transports\\default.py\u001B[0m in \u001B[0;36mmap_httpcore_exceptions\u001B[1;34m()\u001B[0m\n\u001B[0;32m     75\u001B[0m \u001B[1;33m\u001B[0m\u001B[0m\n\u001B[0;32m     76\u001B[0m         \u001B[0mmessage\u001B[0m \u001B[1;33m=\u001B[0m \u001B[0mstr\u001B[0m\u001B[1;33m(\u001B[0m\u001B[0mexc\u001B[0m\u001B[1;33m)\u001B[0m\u001B[1;33m\u001B[0m\u001B[1;33m\u001B[0m\u001B[0m\n\u001B[1;32m---> 77\u001B[1;33m         \u001B[1;32mraise\u001B[0m \u001B[0mmapped_exc\u001B[0m\u001B[1;33m(\u001B[0m\u001B[0mmessage\u001B[0m\u001B[1;33m)\u001B[0m \u001B[1;32mfrom\u001B[0m \u001B[0mexc\u001B[0m\u001B[1;33m\u001B[0m\u001B[1;33m\u001B[0m\u001B[0m\n\u001B[0m\u001B[0;32m     78\u001B[0m \u001B[1;33m\u001B[0m\u001B[0m\n\u001B[0;32m     79\u001B[0m \u001B[1;33m\u001B[0m\u001B[0m\n",
      "\u001B[1;31mConnectTimeout\u001B[0m: "
     ]
    }
   ],
   "source": [
    "# using httpx http2\n",
    "client = httpx.AsyncClient(http2=True)\n",
    "# response = await client.get('https://cloudflare.com/')\n",
    "response = await client.get('https://dashboardservice.pod.ir/v1/userreport/1414/getCSV')\n",
    "print(response.http_version)"
   ],
   "metadata": {
    "collapsed": false,
    "pycharm": {
     "name": "#%%\n"
    }
   }
  },
  {
   "cell_type": "code",
   "execution_count": 14,
   "outputs": [
    {
     "name": "stdout",
     "output_type": "stream",
     "text": [
      "200\n",
      "{'Date': 'Sun, 20 Feb 2022 06:16:11 GMT', 'Content-Type': 'application/json', 'Transfer-Encoding': 'chunked', 'Connection': 'keep-alive', 'Keep-Alive': 'timeout=65', 'Vary': 'Accept-Encoding', 'Access-Control-Allow-Origin': '*', 'Access-Control-Allow-Headers': 'origin, content-type, accept, authorization', 'Access-Control-Allow-Credentials': 'true', 'Access-Control-Allow-Methods': 'GET, POST, PUT, DELETE, OPTIONS, HEAD', 'X-Reference-Number': '1334e8b7-c511-4981-9511-487349ff8f35', 'Cache-Control': 'no-cache, no-store, must-revalidate', 'Pragma': 'no-cache', 'Expires': '0', 'Server': 'ArvanCloud', 'X-XSS-Protection': '1; mode=block', 'AR-PoweredBy': 'Arvan Cloud (arvancloud.com)', 'AR-SID': '2081', 'AR-ATIME': '0.021', 'AR-Request-ID': '88595430fc4ef037fc2fcbe7b76990ab', 'Content-Encoding': 'br'}\n",
      "J%Ó¸P°ì>Ñ)QxL\u0006¼ÚëÁ\u0012µ$NkZ{¯äª×°ì$ß^F¾„\u000FØÔ\u0005_B\u0007Ÿ\u0012-<Í\u0015.çZxT2m6OrýØ±a\u0017ôz–‘D\u0015¹òžm76”J²m]rÿ2¤Gè@\t\u001F°\t\u001Fäzyñ×§KèÀ²\u001Aq™X¸\\ÔÑ\u0015\u0015øt¨¢+´p‰šð´Vø4W¸,Ê´œ+Øj?¡#ß>:ì\u000F÷îôd;ê/»G:ÿ˜¿\u0014'™\u001CO8_µ¾}x¬2BŸÊ\u001D\u0016¿øÐ\\\u0016ÂŸ\u000F—Ã3^ÿùû×þ¸ío›ÁaÙv\u001F\u0011¿Ëû\u0003é{˜\u000Ei¬hùýw¾Öñâ6r#oãÇS§ÐË{õ°ÿlØÝ\u000F;íî¦fò\u001Bm ô‹#¬¬\u0000åÑ¡\u001Bƒ÷ª3N¸¿\u000E|c\u000F&à.ò»x\u0014Ù³q“”hÞÔœZ¦[D\u0013Tc4gÂt5îiöÔ\u0004\u0013ð`]/À\fô÷.—µÈZÉª–4â‹,_¢!²\u0006³Ù\u0017(Ê\u000E\u000F\u0004L@Å“=\u0007»F\u0005¹‹;øo\u0000\u0003\n"
     ]
    },
    {
     "ename": "JSONDecodeError",
     "evalue": "Expecting value: line 1 column 1 (char 0)",
     "output_type": "error",
     "traceback": [
      "\u001B[1;31m---------------------------------------------------------------------------\u001B[0m",
      "\u001B[1;31mJSONDecodeError\u001B[0m                           Traceback (most recent call last)",
      "\u001B[1;32m~\\AppData\\Local\\Temp\\ipykernel_24356\\3738778049.py\u001B[0m in \u001B[0;36m<module>\u001B[1;34m\u001B[0m\n\u001B[0;32m     25\u001B[0m \u001B[0mprint\u001B[0m\u001B[1;33m(\u001B[0m\u001B[0mresp\u001B[0m\u001B[1;33m.\u001B[0m\u001B[0mheaders\u001B[0m\u001B[1;33m)\u001B[0m\u001B[1;33m\u001B[0m\u001B[1;33m\u001B[0m\u001B[0m\n\u001B[0;32m     26\u001B[0m \u001B[0mprint\u001B[0m\u001B[1;33m(\u001B[0m\u001B[0mresp\u001B[0m\u001B[1;33m.\u001B[0m\u001B[0mcontent\u001B[0m\u001B[1;33m.\u001B[0m\u001B[0mdecode\u001B[0m\u001B[1;33m(\u001B[0m\u001B[1;34m\"ansi\"\u001B[0m\u001B[1;33m)\u001B[0m\u001B[1;33m)\u001B[0m\u001B[1;33m\u001B[0m\u001B[1;33m\u001B[0m\u001B[0m\n\u001B[1;32m---> 27\u001B[1;33m \u001B[0mparsed\u001B[0m \u001B[1;33m=\u001B[0m \u001B[0mjson\u001B[0m\u001B[1;33m.\u001B[0m\u001B[0mloads\u001B[0m\u001B[1;33m(\u001B[0m\u001B[0mresp\u001B[0m\u001B[1;33m.\u001B[0m\u001B[0mcontent\u001B[0m\u001B[1;33m.\u001B[0m\u001B[0mdecode\u001B[0m\u001B[1;33m(\u001B[0m\u001B[1;34m\"ansi\"\u001B[0m\u001B[1;33m)\u001B[0m\u001B[1;33m)\u001B[0m\u001B[1;33m\u001B[0m\u001B[1;33m\u001B[0m\u001B[0m\n\u001B[0m\u001B[0;32m     28\u001B[0m \u001B[0mprint\u001B[0m\u001B[1;33m(\u001B[0m \u001B[0mparsed\u001B[0m\u001B[1;33m)\u001B[0m\u001B[1;33m\u001B[0m\u001B[1;33m\u001B[0m\u001B[0m\n\u001B[0;32m     29\u001B[0m \u001B[1;33m\u001B[0m\u001B[0m\n",
      "\u001B[1;32mD:\\app\\python38\\lib\\json\\__init__.py\u001B[0m in \u001B[0;36mloads\u001B[1;34m(s, cls, object_hook, parse_float, parse_int, parse_constant, object_pairs_hook, **kw)\u001B[0m\n\u001B[0;32m    355\u001B[0m             \u001B[0mparse_int\u001B[0m \u001B[1;32mis\u001B[0m \u001B[1;32mNone\u001B[0m \u001B[1;32mand\u001B[0m \u001B[0mparse_float\u001B[0m \u001B[1;32mis\u001B[0m \u001B[1;32mNone\u001B[0m \u001B[1;32mand\u001B[0m\u001B[1;33m\u001B[0m\u001B[1;33m\u001B[0m\u001B[0m\n\u001B[0;32m    356\u001B[0m             parse_constant is None and object_pairs_hook is None and not kw):\n\u001B[1;32m--> 357\u001B[1;33m         \u001B[1;32mreturn\u001B[0m \u001B[0m_default_decoder\u001B[0m\u001B[1;33m.\u001B[0m\u001B[0mdecode\u001B[0m\u001B[1;33m(\u001B[0m\u001B[0ms\u001B[0m\u001B[1;33m)\u001B[0m\u001B[1;33m\u001B[0m\u001B[1;33m\u001B[0m\u001B[0m\n\u001B[0m\u001B[0;32m    358\u001B[0m     \u001B[1;32mif\u001B[0m \u001B[0mcls\u001B[0m \u001B[1;32mis\u001B[0m \u001B[1;32mNone\u001B[0m\u001B[1;33m:\u001B[0m\u001B[1;33m\u001B[0m\u001B[1;33m\u001B[0m\u001B[0m\n\u001B[0;32m    359\u001B[0m         \u001B[0mcls\u001B[0m \u001B[1;33m=\u001B[0m \u001B[0mJSONDecoder\u001B[0m\u001B[1;33m\u001B[0m\u001B[1;33m\u001B[0m\u001B[0m\n",
      "\u001B[1;32mD:\\app\\python38\\lib\\json\\decoder.py\u001B[0m in \u001B[0;36mdecode\u001B[1;34m(self, s, _w)\u001B[0m\n\u001B[0;32m    335\u001B[0m \u001B[1;33m\u001B[0m\u001B[0m\n\u001B[0;32m    336\u001B[0m         \"\"\"\n\u001B[1;32m--> 337\u001B[1;33m         \u001B[0mobj\u001B[0m\u001B[1;33m,\u001B[0m \u001B[0mend\u001B[0m \u001B[1;33m=\u001B[0m \u001B[0mself\u001B[0m\u001B[1;33m.\u001B[0m\u001B[0mraw_decode\u001B[0m\u001B[1;33m(\u001B[0m\u001B[0ms\u001B[0m\u001B[1;33m,\u001B[0m \u001B[0midx\u001B[0m\u001B[1;33m=\u001B[0m\u001B[0m_w\u001B[0m\u001B[1;33m(\u001B[0m\u001B[0ms\u001B[0m\u001B[1;33m,\u001B[0m \u001B[1;36m0\u001B[0m\u001B[1;33m)\u001B[0m\u001B[1;33m.\u001B[0m\u001B[0mend\u001B[0m\u001B[1;33m(\u001B[0m\u001B[1;33m)\u001B[0m\u001B[1;33m)\u001B[0m\u001B[1;33m\u001B[0m\u001B[1;33m\u001B[0m\u001B[0m\n\u001B[0m\u001B[0;32m    338\u001B[0m         \u001B[0mend\u001B[0m \u001B[1;33m=\u001B[0m \u001B[0m_w\u001B[0m\u001B[1;33m(\u001B[0m\u001B[0ms\u001B[0m\u001B[1;33m,\u001B[0m \u001B[0mend\u001B[0m\u001B[1;33m)\u001B[0m\u001B[1;33m.\u001B[0m\u001B[0mend\u001B[0m\u001B[1;33m(\u001B[0m\u001B[1;33m)\u001B[0m\u001B[1;33m\u001B[0m\u001B[1;33m\u001B[0m\u001B[0m\n\u001B[0;32m    339\u001B[0m         \u001B[1;32mif\u001B[0m \u001B[0mend\u001B[0m \u001B[1;33m!=\u001B[0m \u001B[0mlen\u001B[0m\u001B[1;33m(\u001B[0m\u001B[0ms\u001B[0m\u001B[1;33m)\u001B[0m\u001B[1;33m:\u001B[0m\u001B[1;33m\u001B[0m\u001B[1;33m\u001B[0m\u001B[0m\n",
      "\u001B[1;32mD:\\app\\python38\\lib\\json\\decoder.py\u001B[0m in \u001B[0;36mraw_decode\u001B[1;34m(self, s, idx)\u001B[0m\n\u001B[0;32m    353\u001B[0m             \u001B[0mobj\u001B[0m\u001B[1;33m,\u001B[0m \u001B[0mend\u001B[0m \u001B[1;33m=\u001B[0m \u001B[0mself\u001B[0m\u001B[1;33m.\u001B[0m\u001B[0mscan_once\u001B[0m\u001B[1;33m(\u001B[0m\u001B[0ms\u001B[0m\u001B[1;33m,\u001B[0m \u001B[0midx\u001B[0m\u001B[1;33m)\u001B[0m\u001B[1;33m\u001B[0m\u001B[1;33m\u001B[0m\u001B[0m\n\u001B[0;32m    354\u001B[0m         \u001B[1;32mexcept\u001B[0m \u001B[0mStopIteration\u001B[0m \u001B[1;32mas\u001B[0m \u001B[0merr\u001B[0m\u001B[1;33m:\u001B[0m\u001B[1;33m\u001B[0m\u001B[1;33m\u001B[0m\u001B[0m\n\u001B[1;32m--> 355\u001B[1;33m             \u001B[1;32mraise\u001B[0m \u001B[0mJSONDecodeError\u001B[0m\u001B[1;33m(\u001B[0m\u001B[1;34m\"Expecting value\"\u001B[0m\u001B[1;33m,\u001B[0m \u001B[0ms\u001B[0m\u001B[1;33m,\u001B[0m \u001B[0merr\u001B[0m\u001B[1;33m.\u001B[0m\u001B[0mvalue\u001B[0m\u001B[1;33m)\u001B[0m \u001B[1;32mfrom\u001B[0m \u001B[1;32mNone\u001B[0m\u001B[1;33m\u001B[0m\u001B[1;33m\u001B[0m\u001B[0m\n\u001B[0m\u001B[0;32m    356\u001B[0m         \u001B[1;32mreturn\u001B[0m \u001B[0mobj\u001B[0m\u001B[1;33m,\u001B[0m \u001B[0mend\u001B[0m\u001B[1;33m\u001B[0m\u001B[1;33m\u001B[0m\u001B[0m\n",
      "\u001B[1;31mJSONDecodeError\u001B[0m: Expecting value: line 1 column 1 (char 0)"
     ]
    }
   ],
   "source": [
    "# POD refresh token\n",
    "import requests\n",
    "from requests.structures import CaseInsensitiveDict\n",
    "\n",
    "url = \"https://accounts.pod.ir/oauth2/token?grant_type=refresh_token&client_id=9326820e9ba14d9b822f51010028cf00&refresh_token=2ba09737435f4a0eb0cbfce380d90573&code_verifier=1KbYzrQBANWOk2tQIezpWHzEPty0vir1Z_DrmYjYVr0\"\n",
    "\n",
    "headers = CaseInsensitiveDict()\n",
    "headers[\"User-Agent\"] = \"Mozilla/5.0 (Windows NT 10.0; Win64; x64; rv:97.0) Gecko/20100101 Firefox/97.0\"\n",
    "headers[\"Accept\"] = \"*/*\"\n",
    "headers[\"Accept-Language\"] = \"en-US,en;q=0.5\"\n",
    "headers[\"Accept-Encoding\"] = \"gzip, deflate, br\"\n",
    "headers[\"Referer\"] = \"https://dashboard.pod.ir/\"\n",
    "headers[\"content-type\"] = \"application/x-www-form-urlencoded\"\n",
    "headers[\"Origin\"] = \"https://dashboard.pod.ir\"\n",
    "headers[\"Connection\"] = \"keep-alive\"\n",
    "headers[\"Sec-Fetch-Dest\"] = \"empty\"\n",
    "headers[\"Sec-Fetch-Mode\"] = \"cors\"\n",
    "headers[\"Sec-Fetch-Site\"] = \"same-site\"\n",
    "headers[\"Content-Length\"] = \"0\"\n",
    "headers[\"TE\"] = \"trailers\"\n",
    "\n",
    "resp = requests.post(url, headers=headers)\n",
    "\n",
    "print(resp.status_code)\n",
    "print(resp.headers)\n",
    "print(resp.content.decode(\"ansi\"))\n",
    "# parsed = json.loads(resp.content.decode(\"ansi\"))\n",
    "# print( parsed)\n",
    "\n"
   ],
   "metadata": {
    "collapsed": false,
    "pycharm": {
     "name": "#%%\n"
    }
   }
  },
  {
   "cell_type": "code",
   "execution_count": 1,
   "outputs": [
    {
     "ename": "ConnectionError",
     "evalue": "HTTPSConnectionPool(host='dashboardservice.pod.ir', port=443): Max retries exceeded with url: /v1/userreport/1414/getCSV?forceSave=false (Caused by NewConnectionError('<urllib3.connection.HTTPSConnection object at 0x0000024D7B8CA5B0>: Failed to establish a new connection: [Errno 11002] getaddrinfo failed'))",
     "output_type": "error",
     "traceback": [
      "\u001B[1;31m---------------------------------------------------------------------------\u001B[0m",
      "\u001B[1;31mgaierror\u001B[0m                                  Traceback (most recent call last)",
      "\u001B[1;32mD:\\app\\python38\\lib\\site-packages\\urllib3\\connection.py\u001B[0m in \u001B[0;36m_new_conn\u001B[1;34m(self)\u001B[0m\n\u001B[0;32m    168\u001B[0m         \u001B[1;32mtry\u001B[0m\u001B[1;33m:\u001B[0m\u001B[1;33m\u001B[0m\u001B[1;33m\u001B[0m\u001B[0m\n\u001B[1;32m--> 169\u001B[1;33m             conn = connection.create_connection(\n\u001B[0m\u001B[0;32m    170\u001B[0m                 \u001B[1;33m(\u001B[0m\u001B[0mself\u001B[0m\u001B[1;33m.\u001B[0m\u001B[0m_dns_host\u001B[0m\u001B[1;33m,\u001B[0m \u001B[0mself\u001B[0m\u001B[1;33m.\u001B[0m\u001B[0mport\u001B[0m\u001B[1;33m)\u001B[0m\u001B[1;33m,\u001B[0m \u001B[0mself\u001B[0m\u001B[1;33m.\u001B[0m\u001B[0mtimeout\u001B[0m\u001B[1;33m,\u001B[0m \u001B[1;33m**\u001B[0m\u001B[0mextra_kw\u001B[0m\u001B[1;33m\u001B[0m\u001B[1;33m\u001B[0m\u001B[0m\n",
      "\u001B[1;32mD:\\app\\python38\\lib\\site-packages\\urllib3\\util\\connection.py\u001B[0m in \u001B[0;36mcreate_connection\u001B[1;34m(address, timeout, source_address, socket_options)\u001B[0m\n\u001B[0;32m     72\u001B[0m \u001B[1;33m\u001B[0m\u001B[0m\n\u001B[1;32m---> 73\u001B[1;33m     \u001B[1;32mfor\u001B[0m \u001B[0mres\u001B[0m \u001B[1;32min\u001B[0m \u001B[0msocket\u001B[0m\u001B[1;33m.\u001B[0m\u001B[0mgetaddrinfo\u001B[0m\u001B[1;33m(\u001B[0m\u001B[0mhost\u001B[0m\u001B[1;33m,\u001B[0m \u001B[0mport\u001B[0m\u001B[1;33m,\u001B[0m \u001B[0mfamily\u001B[0m\u001B[1;33m,\u001B[0m \u001B[0msocket\u001B[0m\u001B[1;33m.\u001B[0m\u001B[0mSOCK_STREAM\u001B[0m\u001B[1;33m)\u001B[0m\u001B[1;33m:\u001B[0m\u001B[1;33m\u001B[0m\u001B[1;33m\u001B[0m\u001B[0m\n\u001B[0m\u001B[0;32m     74\u001B[0m         \u001B[0maf\u001B[0m\u001B[1;33m,\u001B[0m \u001B[0msocktype\u001B[0m\u001B[1;33m,\u001B[0m \u001B[0mproto\u001B[0m\u001B[1;33m,\u001B[0m \u001B[0mcanonname\u001B[0m\u001B[1;33m,\u001B[0m \u001B[0msa\u001B[0m \u001B[1;33m=\u001B[0m \u001B[0mres\u001B[0m\u001B[1;33m\u001B[0m\u001B[1;33m\u001B[0m\u001B[0m\n",
      "\u001B[1;32mD:\\app\\python38\\lib\\socket.py\u001B[0m in \u001B[0;36mgetaddrinfo\u001B[1;34m(host, port, family, type, proto, flags)\u001B[0m\n\u001B[0;32m    917\u001B[0m     \u001B[0maddrlist\u001B[0m \u001B[1;33m=\u001B[0m \u001B[1;33m[\u001B[0m\u001B[1;33m]\u001B[0m\u001B[1;33m\u001B[0m\u001B[1;33m\u001B[0m\u001B[0m\n\u001B[1;32m--> 918\u001B[1;33m     \u001B[1;32mfor\u001B[0m \u001B[0mres\u001B[0m \u001B[1;32min\u001B[0m \u001B[0m_socket\u001B[0m\u001B[1;33m.\u001B[0m\u001B[0mgetaddrinfo\u001B[0m\u001B[1;33m(\u001B[0m\u001B[0mhost\u001B[0m\u001B[1;33m,\u001B[0m \u001B[0mport\u001B[0m\u001B[1;33m,\u001B[0m \u001B[0mfamily\u001B[0m\u001B[1;33m,\u001B[0m \u001B[0mtype\u001B[0m\u001B[1;33m,\u001B[0m \u001B[0mproto\u001B[0m\u001B[1;33m,\u001B[0m \u001B[0mflags\u001B[0m\u001B[1;33m)\u001B[0m\u001B[1;33m:\u001B[0m\u001B[1;33m\u001B[0m\u001B[1;33m\u001B[0m\u001B[0m\n\u001B[0m\u001B[0;32m    919\u001B[0m         \u001B[0maf\u001B[0m\u001B[1;33m,\u001B[0m \u001B[0msocktype\u001B[0m\u001B[1;33m,\u001B[0m \u001B[0mproto\u001B[0m\u001B[1;33m,\u001B[0m \u001B[0mcanonname\u001B[0m\u001B[1;33m,\u001B[0m \u001B[0msa\u001B[0m \u001B[1;33m=\u001B[0m \u001B[0mres\u001B[0m\u001B[1;33m\u001B[0m\u001B[1;33m\u001B[0m\u001B[0m\n",
      "\u001B[1;31mgaierror\u001B[0m: [Errno 11002] getaddrinfo failed",
      "\nDuring handling of the above exception, another exception occurred:\n",
      "\u001B[1;31mNewConnectionError\u001B[0m                        Traceback (most recent call last)",
      "\u001B[1;32mD:\\app\\python38\\lib\\site-packages\\urllib3\\connectionpool.py\u001B[0m in \u001B[0;36murlopen\u001B[1;34m(self, method, url, body, headers, retries, redirect, assert_same_host, timeout, pool_timeout, release_conn, chunked, body_pos, **response_kw)\u001B[0m\n\u001B[0;32m    698\u001B[0m             \u001B[1;31m# Make the request on the httplib connection object.\u001B[0m\u001B[1;33m\u001B[0m\u001B[1;33m\u001B[0m\u001B[1;33m\u001B[0m\u001B[0m\n\u001B[1;32m--> 699\u001B[1;33m             httplib_response = self._make_request(\n\u001B[0m\u001B[0;32m    700\u001B[0m                 \u001B[0mconn\u001B[0m\u001B[1;33m,\u001B[0m\u001B[1;33m\u001B[0m\u001B[1;33m\u001B[0m\u001B[0m\n",
      "\u001B[1;32mD:\\app\\python38\\lib\\site-packages\\urllib3\\connectionpool.py\u001B[0m in \u001B[0;36m_make_request\u001B[1;34m(self, conn, method, url, timeout, chunked, **httplib_request_kw)\u001B[0m\n\u001B[0;32m    381\u001B[0m         \u001B[1;32mtry\u001B[0m\u001B[1;33m:\u001B[0m\u001B[1;33m\u001B[0m\u001B[1;33m\u001B[0m\u001B[0m\n\u001B[1;32m--> 382\u001B[1;33m             \u001B[0mself\u001B[0m\u001B[1;33m.\u001B[0m\u001B[0m_validate_conn\u001B[0m\u001B[1;33m(\u001B[0m\u001B[0mconn\u001B[0m\u001B[1;33m)\u001B[0m\u001B[1;33m\u001B[0m\u001B[1;33m\u001B[0m\u001B[0m\n\u001B[0m\u001B[0;32m    383\u001B[0m         \u001B[1;32mexcept\u001B[0m \u001B[1;33m(\u001B[0m\u001B[0mSocketTimeout\u001B[0m\u001B[1;33m,\u001B[0m \u001B[0mBaseSSLError\u001B[0m\u001B[1;33m)\u001B[0m \u001B[1;32mas\u001B[0m \u001B[0me\u001B[0m\u001B[1;33m:\u001B[0m\u001B[1;33m\u001B[0m\u001B[1;33m\u001B[0m\u001B[0m\n",
      "\u001B[1;32mD:\\app\\python38\\lib\\site-packages\\urllib3\\connectionpool.py\u001B[0m in \u001B[0;36m_validate_conn\u001B[1;34m(self, conn)\u001B[0m\n\u001B[0;32m   1009\u001B[0m         \u001B[1;32mif\u001B[0m \u001B[1;32mnot\u001B[0m \u001B[0mgetattr\u001B[0m\u001B[1;33m(\u001B[0m\u001B[0mconn\u001B[0m\u001B[1;33m,\u001B[0m \u001B[1;34m\"sock\"\u001B[0m\u001B[1;33m,\u001B[0m \u001B[1;32mNone\u001B[0m\u001B[1;33m)\u001B[0m\u001B[1;33m:\u001B[0m  \u001B[1;31m# AppEngine might not have  `.sock`\u001B[0m\u001B[1;33m\u001B[0m\u001B[1;33m\u001B[0m\u001B[0m\n\u001B[1;32m-> 1010\u001B[1;33m             \u001B[0mconn\u001B[0m\u001B[1;33m.\u001B[0m\u001B[0mconnect\u001B[0m\u001B[1;33m(\u001B[0m\u001B[1;33m)\u001B[0m\u001B[1;33m\u001B[0m\u001B[1;33m\u001B[0m\u001B[0m\n\u001B[0m\u001B[0;32m   1011\u001B[0m \u001B[1;33m\u001B[0m\u001B[0m\n",
      "\u001B[1;32mD:\\app\\python38\\lib\\site-packages\\urllib3\\connection.py\u001B[0m in \u001B[0;36mconnect\u001B[1;34m(self)\u001B[0m\n\u001B[0;32m    352\u001B[0m         \u001B[1;31m# Add certificate verification\u001B[0m\u001B[1;33m\u001B[0m\u001B[1;33m\u001B[0m\u001B[1;33m\u001B[0m\u001B[0m\n\u001B[1;32m--> 353\u001B[1;33m         \u001B[0mconn\u001B[0m \u001B[1;33m=\u001B[0m \u001B[0mself\u001B[0m\u001B[1;33m.\u001B[0m\u001B[0m_new_conn\u001B[0m\u001B[1;33m(\u001B[0m\u001B[1;33m)\u001B[0m\u001B[1;33m\u001B[0m\u001B[1;33m\u001B[0m\u001B[0m\n\u001B[0m\u001B[0;32m    354\u001B[0m         \u001B[0mhostname\u001B[0m \u001B[1;33m=\u001B[0m \u001B[0mself\u001B[0m\u001B[1;33m.\u001B[0m\u001B[0mhost\u001B[0m\u001B[1;33m\u001B[0m\u001B[1;33m\u001B[0m\u001B[0m\n",
      "\u001B[1;32mD:\\app\\python38\\lib\\site-packages\\urllib3\\connection.py\u001B[0m in \u001B[0;36m_new_conn\u001B[1;34m(self)\u001B[0m\n\u001B[0;32m    180\u001B[0m         \u001B[1;32mexcept\u001B[0m \u001B[0mSocketError\u001B[0m \u001B[1;32mas\u001B[0m \u001B[0me\u001B[0m\u001B[1;33m:\u001B[0m\u001B[1;33m\u001B[0m\u001B[1;33m\u001B[0m\u001B[0m\n\u001B[1;32m--> 181\u001B[1;33m             raise NewConnectionError(\n\u001B[0m\u001B[0;32m    182\u001B[0m                 \u001B[0mself\u001B[0m\u001B[1;33m,\u001B[0m \u001B[1;34m\"Failed to establish a new connection: %s\"\u001B[0m \u001B[1;33m%\u001B[0m \u001B[0me\u001B[0m\u001B[1;33m\u001B[0m\u001B[1;33m\u001B[0m\u001B[0m\n",
      "\u001B[1;31mNewConnectionError\u001B[0m: <urllib3.connection.HTTPSConnection object at 0x0000024D7B8CA5B0>: Failed to establish a new connection: [Errno 11002] getaddrinfo failed",
      "\nDuring handling of the above exception, another exception occurred:\n",
      "\u001B[1;31mMaxRetryError\u001B[0m                             Traceback (most recent call last)",
      "\u001B[1;32mD:\\app\\python38\\lib\\site-packages\\requests\\adapters.py\u001B[0m in \u001B[0;36msend\u001B[1;34m(self, request, stream, timeout, verify, cert, proxies)\u001B[0m\n\u001B[0;32m    439\u001B[0m             \u001B[1;32mif\u001B[0m \u001B[1;32mnot\u001B[0m \u001B[0mchunked\u001B[0m\u001B[1;33m:\u001B[0m\u001B[1;33m\u001B[0m\u001B[1;33m\u001B[0m\u001B[0m\n\u001B[1;32m--> 440\u001B[1;33m                 resp = conn.urlopen(\n\u001B[0m\u001B[0;32m    441\u001B[0m                     \u001B[0mmethod\u001B[0m\u001B[1;33m=\u001B[0m\u001B[0mrequest\u001B[0m\u001B[1;33m.\u001B[0m\u001B[0mmethod\u001B[0m\u001B[1;33m,\u001B[0m\u001B[1;33m\u001B[0m\u001B[1;33m\u001B[0m\u001B[0m\n",
      "\u001B[1;32mD:\\app\\python38\\lib\\site-packages\\urllib3\\connectionpool.py\u001B[0m in \u001B[0;36murlopen\u001B[1;34m(self, method, url, body, headers, retries, redirect, assert_same_host, timeout, pool_timeout, release_conn, chunked, body_pos, **response_kw)\u001B[0m\n\u001B[0;32m    754\u001B[0m \u001B[1;33m\u001B[0m\u001B[0m\n\u001B[1;32m--> 755\u001B[1;33m             retries = retries.increment(\n\u001B[0m\u001B[0;32m    756\u001B[0m                 \u001B[0mmethod\u001B[0m\u001B[1;33m,\u001B[0m \u001B[0murl\u001B[0m\u001B[1;33m,\u001B[0m \u001B[0merror\u001B[0m\u001B[1;33m=\u001B[0m\u001B[0me\u001B[0m\u001B[1;33m,\u001B[0m \u001B[0m_pool\u001B[0m\u001B[1;33m=\u001B[0m\u001B[0mself\u001B[0m\u001B[1;33m,\u001B[0m \u001B[0m_stacktrace\u001B[0m\u001B[1;33m=\u001B[0m\u001B[0msys\u001B[0m\u001B[1;33m.\u001B[0m\u001B[0mexc_info\u001B[0m\u001B[1;33m(\u001B[0m\u001B[1;33m)\u001B[0m\u001B[1;33m[\u001B[0m\u001B[1;36m2\u001B[0m\u001B[1;33m]\u001B[0m\u001B[1;33m\u001B[0m\u001B[1;33m\u001B[0m\u001B[0m\n",
      "\u001B[1;32mD:\\app\\python38\\lib\\site-packages\\urllib3\\util\\retry.py\u001B[0m in \u001B[0;36mincrement\u001B[1;34m(self, method, url, response, error, _pool, _stacktrace)\u001B[0m\n\u001B[0;32m    573\u001B[0m         \u001B[1;32mif\u001B[0m \u001B[0mnew_retry\u001B[0m\u001B[1;33m.\u001B[0m\u001B[0mis_exhausted\u001B[0m\u001B[1;33m(\u001B[0m\u001B[1;33m)\u001B[0m\u001B[1;33m:\u001B[0m\u001B[1;33m\u001B[0m\u001B[1;33m\u001B[0m\u001B[0m\n\u001B[1;32m--> 574\u001B[1;33m             \u001B[1;32mraise\u001B[0m \u001B[0mMaxRetryError\u001B[0m\u001B[1;33m(\u001B[0m\u001B[0m_pool\u001B[0m\u001B[1;33m,\u001B[0m \u001B[0murl\u001B[0m\u001B[1;33m,\u001B[0m \u001B[0merror\u001B[0m \u001B[1;32mor\u001B[0m \u001B[0mResponseError\u001B[0m\u001B[1;33m(\u001B[0m\u001B[0mcause\u001B[0m\u001B[1;33m)\u001B[0m\u001B[1;33m)\u001B[0m\u001B[1;33m\u001B[0m\u001B[1;33m\u001B[0m\u001B[0m\n\u001B[0m\u001B[0;32m    575\u001B[0m \u001B[1;33m\u001B[0m\u001B[0m\n",
      "\u001B[1;31mMaxRetryError\u001B[0m: HTTPSConnectionPool(host='dashboardservice.pod.ir', port=443): Max retries exceeded with url: /v1/userreport/1414/getCSV?forceSave=false (Caused by NewConnectionError('<urllib3.connection.HTTPSConnection object at 0x0000024D7B8CA5B0>: Failed to establish a new connection: [Errno 11002] getaddrinfo failed'))",
      "\nDuring handling of the above exception, another exception occurred:\n",
      "\u001B[1;31mConnectionError\u001B[0m                           Traceback (most recent call last)",
      "\u001B[1;32m~\\AppData\\Local\\Temp\\ipykernel_29148\\2331662314.py\u001B[0m in \u001B[0;36m<module>\u001B[1;34m\u001B[0m\n\u001B[0;32m     22\u001B[0m \u001B[0mdata\u001B[0m \u001B[1;33m=\u001B[0m \u001B[1;34m'{\"filterVOS\":[],\"parentParams\":[{\"fill\":\"BY_BUSINESS_OR_PARENT\",\"id\":785,\"key\":\"START_DATE\",\"order\":0,\"type\":\"DATE_FROM\",\"validValueType\":\"NONE\",\"value\":\"30\"},{\"fill\":\"BY_BUSINESS_OR_PARENT\",\"id\":786,\"key\":\"END_DATE\",\"order\":1,\"type\":\"DATE_FROM\",\"validValueType\":\"NONE\",\"value\":\"0\"}],\"orderByElementVOS\":[]}'\u001B[0m\u001B[1;33m\u001B[0m\u001B[1;33m\u001B[0m\u001B[0m\n\u001B[0;32m     23\u001B[0m \u001B[1;33m\u001B[0m\u001B[0m\n\u001B[1;32m---> 24\u001B[1;33m \u001B[0mresp\u001B[0m \u001B[1;33m=\u001B[0m \u001B[0mrequests\u001B[0m\u001B[1;33m.\u001B[0m\u001B[0mpost\u001B[0m\u001B[1;33m(\u001B[0m\u001B[0murl\u001B[0m\u001B[1;33m,\u001B[0m \u001B[0mheaders\u001B[0m\u001B[1;33m=\u001B[0m\u001B[0mheaders\u001B[0m\u001B[1;33m,\u001B[0m \u001B[0mdata\u001B[0m\u001B[1;33m=\u001B[0m\u001B[0mdata\u001B[0m\u001B[1;33m)\u001B[0m\u001B[1;33m\u001B[0m\u001B[1;33m\u001B[0m\u001B[0m\n\u001B[0m\u001B[0;32m     25\u001B[0m \u001B[1;33m\u001B[0m\u001B[0m\n\u001B[0;32m     26\u001B[0m \u001B[0mprint\u001B[0m\u001B[1;33m(\u001B[0m\u001B[0mresp\u001B[0m\u001B[1;33m.\u001B[0m\u001B[0mstatus_code\u001B[0m\u001B[1;33m)\u001B[0m\u001B[1;33m\u001B[0m\u001B[1;33m\u001B[0m\u001B[0m\n",
      "\u001B[1;32mD:\\app\\python38\\lib\\site-packages\\requests\\api.py\u001B[0m in \u001B[0;36mpost\u001B[1;34m(url, data, json, **kwargs)\u001B[0m\n\u001B[0;32m    115\u001B[0m     \"\"\"\n\u001B[0;32m    116\u001B[0m \u001B[1;33m\u001B[0m\u001B[0m\n\u001B[1;32m--> 117\u001B[1;33m     \u001B[1;32mreturn\u001B[0m \u001B[0mrequest\u001B[0m\u001B[1;33m(\u001B[0m\u001B[1;34m'post'\u001B[0m\u001B[1;33m,\u001B[0m \u001B[0murl\u001B[0m\u001B[1;33m,\u001B[0m \u001B[0mdata\u001B[0m\u001B[1;33m=\u001B[0m\u001B[0mdata\u001B[0m\u001B[1;33m,\u001B[0m \u001B[0mjson\u001B[0m\u001B[1;33m=\u001B[0m\u001B[0mjson\u001B[0m\u001B[1;33m,\u001B[0m \u001B[1;33m**\u001B[0m\u001B[0mkwargs\u001B[0m\u001B[1;33m)\u001B[0m\u001B[1;33m\u001B[0m\u001B[1;33m\u001B[0m\u001B[0m\n\u001B[0m\u001B[0;32m    118\u001B[0m \u001B[1;33m\u001B[0m\u001B[0m\n\u001B[0;32m    119\u001B[0m \u001B[1;33m\u001B[0m\u001B[0m\n",
      "\u001B[1;32mD:\\app\\python38\\lib\\site-packages\\requests\\api.py\u001B[0m in \u001B[0;36mrequest\u001B[1;34m(method, url, **kwargs)\u001B[0m\n\u001B[0;32m     59\u001B[0m     \u001B[1;31m# cases, and look like a memory leak in others.\u001B[0m\u001B[1;33m\u001B[0m\u001B[1;33m\u001B[0m\u001B[1;33m\u001B[0m\u001B[0m\n\u001B[0;32m     60\u001B[0m     \u001B[1;32mwith\u001B[0m \u001B[0msessions\u001B[0m\u001B[1;33m.\u001B[0m\u001B[0mSession\u001B[0m\u001B[1;33m(\u001B[0m\u001B[1;33m)\u001B[0m \u001B[1;32mas\u001B[0m \u001B[0msession\u001B[0m\u001B[1;33m:\u001B[0m\u001B[1;33m\u001B[0m\u001B[1;33m\u001B[0m\u001B[0m\n\u001B[1;32m---> 61\u001B[1;33m         \u001B[1;32mreturn\u001B[0m \u001B[0msession\u001B[0m\u001B[1;33m.\u001B[0m\u001B[0mrequest\u001B[0m\u001B[1;33m(\u001B[0m\u001B[0mmethod\u001B[0m\u001B[1;33m=\u001B[0m\u001B[0mmethod\u001B[0m\u001B[1;33m,\u001B[0m \u001B[0murl\u001B[0m\u001B[1;33m=\u001B[0m\u001B[0murl\u001B[0m\u001B[1;33m,\u001B[0m \u001B[1;33m**\u001B[0m\u001B[0mkwargs\u001B[0m\u001B[1;33m)\u001B[0m\u001B[1;33m\u001B[0m\u001B[1;33m\u001B[0m\u001B[0m\n\u001B[0m\u001B[0;32m     62\u001B[0m \u001B[1;33m\u001B[0m\u001B[0m\n\u001B[0;32m     63\u001B[0m \u001B[1;33m\u001B[0m\u001B[0m\n",
      "\u001B[1;32mD:\\app\\python38\\lib\\site-packages\\requests\\sessions.py\u001B[0m in \u001B[0;36mrequest\u001B[1;34m(self, method, url, params, data, headers, cookies, files, auth, timeout, allow_redirects, proxies, hooks, stream, verify, cert, json)\u001B[0m\n\u001B[0;32m    527\u001B[0m         }\n\u001B[0;32m    528\u001B[0m         \u001B[0msend_kwargs\u001B[0m\u001B[1;33m.\u001B[0m\u001B[0mupdate\u001B[0m\u001B[1;33m(\u001B[0m\u001B[0msettings\u001B[0m\u001B[1;33m)\u001B[0m\u001B[1;33m\u001B[0m\u001B[1;33m\u001B[0m\u001B[0m\n\u001B[1;32m--> 529\u001B[1;33m         \u001B[0mresp\u001B[0m \u001B[1;33m=\u001B[0m \u001B[0mself\u001B[0m\u001B[1;33m.\u001B[0m\u001B[0msend\u001B[0m\u001B[1;33m(\u001B[0m\u001B[0mprep\u001B[0m\u001B[1;33m,\u001B[0m \u001B[1;33m**\u001B[0m\u001B[0msend_kwargs\u001B[0m\u001B[1;33m)\u001B[0m\u001B[1;33m\u001B[0m\u001B[1;33m\u001B[0m\u001B[0m\n\u001B[0m\u001B[0;32m    530\u001B[0m \u001B[1;33m\u001B[0m\u001B[0m\n\u001B[0;32m    531\u001B[0m         \u001B[1;32mreturn\u001B[0m \u001B[0mresp\u001B[0m\u001B[1;33m\u001B[0m\u001B[1;33m\u001B[0m\u001B[0m\n",
      "\u001B[1;32mD:\\app\\python38\\lib\\site-packages\\requests\\sessions.py\u001B[0m in \u001B[0;36msend\u001B[1;34m(self, request, **kwargs)\u001B[0m\n\u001B[0;32m    643\u001B[0m \u001B[1;33m\u001B[0m\u001B[0m\n\u001B[0;32m    644\u001B[0m         \u001B[1;31m# Send the request\u001B[0m\u001B[1;33m\u001B[0m\u001B[1;33m\u001B[0m\u001B[1;33m\u001B[0m\u001B[0m\n\u001B[1;32m--> 645\u001B[1;33m         \u001B[0mr\u001B[0m \u001B[1;33m=\u001B[0m \u001B[0madapter\u001B[0m\u001B[1;33m.\u001B[0m\u001B[0msend\u001B[0m\u001B[1;33m(\u001B[0m\u001B[0mrequest\u001B[0m\u001B[1;33m,\u001B[0m \u001B[1;33m**\u001B[0m\u001B[0mkwargs\u001B[0m\u001B[1;33m)\u001B[0m\u001B[1;33m\u001B[0m\u001B[1;33m\u001B[0m\u001B[0m\n\u001B[0m\u001B[0;32m    646\u001B[0m \u001B[1;33m\u001B[0m\u001B[0m\n\u001B[0;32m    647\u001B[0m         \u001B[1;31m# Total elapsed time of the request (approximately)\u001B[0m\u001B[1;33m\u001B[0m\u001B[1;33m\u001B[0m\u001B[1;33m\u001B[0m\u001B[0m\n",
      "\u001B[1;32mD:\\app\\python38\\lib\\site-packages\\requests\\adapters.py\u001B[0m in \u001B[0;36msend\u001B[1;34m(self, request, stream, timeout, verify, cert, proxies)\u001B[0m\n\u001B[0;32m    517\u001B[0m                 \u001B[1;32mraise\u001B[0m \u001B[0mSSLError\u001B[0m\u001B[1;33m(\u001B[0m\u001B[0me\u001B[0m\u001B[1;33m,\u001B[0m \u001B[0mrequest\u001B[0m\u001B[1;33m=\u001B[0m\u001B[0mrequest\u001B[0m\u001B[1;33m)\u001B[0m\u001B[1;33m\u001B[0m\u001B[1;33m\u001B[0m\u001B[0m\n\u001B[0;32m    518\u001B[0m \u001B[1;33m\u001B[0m\u001B[0m\n\u001B[1;32m--> 519\u001B[1;33m             \u001B[1;32mraise\u001B[0m \u001B[0mConnectionError\u001B[0m\u001B[1;33m(\u001B[0m\u001B[0me\u001B[0m\u001B[1;33m,\u001B[0m \u001B[0mrequest\u001B[0m\u001B[1;33m=\u001B[0m\u001B[0mrequest\u001B[0m\u001B[1;33m)\u001B[0m\u001B[1;33m\u001B[0m\u001B[1;33m\u001B[0m\u001B[0m\n\u001B[0m\u001B[0;32m    520\u001B[0m \u001B[1;33m\u001B[0m\u001B[0m\n\u001B[0;32m    521\u001B[0m         \u001B[1;32mexcept\u001B[0m \u001B[0mClosedPoolError\u001B[0m \u001B[1;32mas\u001B[0m \u001B[0me\u001B[0m\u001B[1;33m:\u001B[0m\u001B[1;33m\u001B[0m\u001B[1;33m\u001B[0m\u001B[0m\n",
      "\u001B[1;31mConnectionError\u001B[0m: HTTPSConnectionPool(host='dashboardservice.pod.ir', port=443): Max retries exceeded with url: /v1/userreport/1414/getCSV?forceSave=false (Caused by NewConnectionError('<urllib3.connection.HTTPSConnection object at 0x0000024D7B8CA5B0>: Failed to establish a new connection: [Errno 11002] getaddrinfo failed'))"
     ]
    }
   ],
   "source": [
    "# POD get report\n",
    "import requests\n",
    "from requests.structures import CaseInsensitiveDict\n",
    "\n",
    "url = \"https://dashboardservice.pod.ir/v1/userreport/1414/getCSV?forceSave=false\"\n",
    "\n",
    "headers = CaseInsensitiveDict()\n",
    "headers[\"User-Agent\"] = \"Mozilla/5.0 (Windows NT 10.0; Win64; x64; rv:97.0) Gecko/20100101 Firefox/97.0\"\n",
    "headers[\"Accept\"] = \"application/json, text/plain, */*\"\n",
    "headers[\"Accept-Language\"] = \"en-US,en;q=0.5\"\n",
    "headers[\"Accept-Encoding\"] = \"gzip, deflate, br\"\n",
    "headers[\"Content-Type\"] = \"application/json;charset=utf-8\"\n",
    "headers[\"token\"] = \"1bf469db2ae54886924d60a1e44dac94\"\n",
    "headers[\"Origin\"] = \"https://dashboard.pod.ir\"\n",
    "headers[\"Connection\"] = \"keep-alive\"\n",
    "headers[\"Referer\"] = \"https://dashboard.pod.ir/\"\n",
    "headers[\"Sec-Fetch-Dest\"] = \"empty\"\n",
    "headers[\"Sec-Fetch-Mode\"] = \"cors\"\n",
    "headers[\"Sec-Fetch-Site\"] = \"same-site\"\n",
    "headers[\"TE\"] = \"trailers\"\n",
    "\n",
    "data = '{\"filterVOS\":[],\"parentParams\":[{\"fill\":\"BY_BUSINESS_OR_PARENT\",\"id\":785,\"key\":\"START_DATE\",\"order\":0,\"type\":\"DATE_FROM\",\"validValueType\":\"NONE\",\"value\":\"30\"},{\"fill\":\"BY_BUSINESS_OR_PARENT\",\"id\":786,\"key\":\"END_DATE\",\"order\":1,\"type\":\"DATE_FROM\",\"validValueType\":\"NONE\",\"value\":\"0\"}],\"orderByElementVOS\":[]}'\n",
    "\n",
    "resp = requests.post(url, headers=headers, data=data)\n",
    "\n",
    "print(resp.status_code)\n",
    "print(resp.text)\n",
    "\n",
    "\n"
   ],
   "metadata": {
    "collapsed": false,
    "pycharm": {
     "name": "#%%\n"
    }
   }
  },
  {
   "cell_type": "code",
   "execution_count": null,
   "outputs": [],
   "source": [
    "resp = requests.post()\n",
    "await fetch(\"https://dashboardservice.pod.ir/v1/userreport/1414/getCSV?forceSave=false\", {\n",
    "    \"credentials\": \"omit\",\n",
    "    \"headers\": {\n",
    "        \"User-Agent\": \"Mozilla/5.0 (Windows NT 10.0; Win64; x64; rv:97.0) Gecko/20100101 Firefox/97.0\",\n",
    "        \"Accept\": \"application/json, text/plain, */*\",\n",
    "        \"Accept-Language\": \"en-US,en;q=0.5\",\n",
    "        \"Content-Type\": \"application/json;charset=utf-8\",\n",
    "        \"token\": \"2fd8234c3d854c89943d38b9a532f5cc\",\n",
    "        \"Sec-Fetch-Dest\": \"empty\",\n",
    "        \"Sec-Fetch-Mode\": \"cors\",\n",
    "        \"Sec-Fetch-Site\": \"same-site\"\n",
    "    },\n",
    "    \"referrer\": \"https://dashboard.pod.ir/\",\n",
    "    \"body\": \"{\\\"filterVOS\\\":[],\\\"parentParams\\\":[{\\\"fill\\\":\\\"BY_BUSINESS_OR_PARENT\\\",\\\"id\\\":785,\\\"key\\\":\\\"START_DATE\\\",\\\"order\\\":0,\\\"type\\\":\\\"DATE_FROM\\\",\\\"validValueType\\\":\\\"NONE\\\",\\\"value\\\":\\\"30\\\"},{\\\"fill\\\":\\\"BY_BUSINESS_OR_PARENT\\\",\\\"id\\\":786,\\\"key\\\":\\\"END_DATE\\\",\\\"order\\\":1,\\\"type\\\":\\\"DATE_FROM\\\",\\\"validValueType\\\":\\\"NONE\\\",\\\"value\\\":\\\"0\\\"}],\\\"orderByElementVOS\\\":[]}\",\n",
    "    \"method\": \"POST\",\n",
    "    \"mode\": \"cors\"\n",
    "});\n",
    "\n"
   ],
   "metadata": {
    "collapsed": false,
    "pycharm": {
     "name": "#%%\n"
    }
   }
  },
  {
   "cell_type": "code",
   "execution_count": 1,
   "outputs": [
    {
     "name": "stdout",
     "output_type": "stream",
     "text": [
      "401\n",
      "{\"code\":106,\"link\":\"http://docs.pod.ir/v1.0.0.0/ReportAPIs/Introduction/2161/Overview\",\"message\":\"دسترسی غیر مجاز است.\",\"status\":401}\n"
     ]
    }
   ],
   "source": [
    "# POD get report 2\n",
    "import requests\n",
    "from requests.structures import CaseInsensitiveDict\n",
    "url = \"https://dashboardservice.pod.ir/v1/userreport/1414/getCSV?forceSave=false\"\n",
    "headers = CaseInsensitiveDict()\n",
    "headers[\"User-Agent\"] = \"Mozilla/5.0 (Windows NT 10.0; Win64; x64; rv:97.0) Gecko/20100101 Firefox/97.0\"\n",
    "headers[\"Accept\"] = \"application/json, text/plain, */*\"\n",
    "headers[\"Accept-Language\"] = \"en-US,en;q=0.5\"\n",
    "headers[\"Accept-Encoding\"] = \"gzip, deflate, br\"\n",
    "headers[\"token\"] = \"2a6e4e54e1934a46a862b6f477e16695\"\n",
    "headers[\"Origin\"] = \"https://dashboard.pod.ir\"\n",
    "headers[\"Connection\"] = \"keep-alive\"\n",
    "headers[\"Referer\"] = \"https://dashboard.pod.ir/\"\n",
    "headers[\"Sec-Fetch-Dest\"] = \"empty\"\n",
    "headers[\"Sec-Fetch-Mode\"] = \"cors\"\n",
    "headers[\"Sec-Fetch-Site\"] = \"same-site\"\n",
    "headers[\"TE\"] = \"trailers\"\n",
    "headers[\"Content-Type\"] = \"application/json;charset=utf-8\"\n",
    "\n",
    "data = '{\"filterVOS\":[],\"parentParams\":[{\"fill\":\"BY_BUSINESS_OR_PARENT\",\"id\":785,\"key\":\"START_DATE\",\"order\":0,\"type\":\"DATE_FROM\",\"validValueType\":\"NONE\",\"value\":\"30\"},{\"fill\":\"BY_BUSINESS_OR_PARENT\",\"id\":786,\"key\":\"END_DATE\",\"order\":1,\"type\":\"DATE_FROM\",\"validValueType\":\"NONE\",\"value\":\"0\"}],\"orderByElementVOS\":[]}'\n",
    "\n",
    "resp = requests.post(url, headers=headers, data=data)\n",
    "\n",
    "print(resp.status_code)\n",
    "print(resp.text)\n"
   ],
   "metadata": {
    "collapsed": false,
    "pycharm": {
     "name": "#%%\n"
    }
   }
  },
  {
   "cell_type": "code",
   "execution_count": null,
   "outputs": [],
   "source": [
    "# authentication by oauth2\n",
    "\n",
    "from oauthlib.oauth2 import BackendApplicationClient\n",
    "from requests_oauthlib import OAuth2Session\n",
    "client_id = 'your_client_id'\n",
    "client_secret = 'your_client_secret'\n",
    "# client_id=9326820e9ba14d9b822f51010028cf00\n",
    "# &refresh_token=2ba09737435f4a0eb0cbfce380d90573\n",
    "# &code_verifier=1KbYzrQBANWOk2tQIezpWHzEPty0vir1Z_DrmYjYVr0\n",
    "client = BackendApplicationClient(client_id=client_id)\n",
    "oauth = OAuth2Session(client=client)\n",
    "token = oauth.fetch_token(token_url='https://provider.com/oauth2/token', client_id=client_id,\n",
    "                              client_secret=client_secret)"
   ],
   "metadata": {
    "collapsed": false,
    "pycharm": {
     "name": "#%%\n"
    }
   }
  }
 ],
 "metadata": {
  "kernelspec": {
   "display_name": "Python 3",
   "language": "python",
   "name": "python3"
  },
  "language_info": {
   "codemirror_mode": {
    "name": "ipython",
    "version": 2
   },
   "file_extension": ".py",
   "mimetype": "text/x-python",
   "name": "python",
   "nbconvert_exporter": "python",
   "pygments_lexer": "ipython2",
   "version": "2.7.6"
  }
 },
 "nbformat": 4,
 "nbformat_minor": 0
}