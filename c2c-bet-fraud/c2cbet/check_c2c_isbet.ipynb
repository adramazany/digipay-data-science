{
 "cells": [
  {
   "cell_type": "code",
   "execution_count": 16,
   "metadata": {
    "collapsed": true,
    "pycharm": {
     "name": "#%% imports\n"
    }
   },
   "outputs": [],
   "source": [
    "import jdatetime\n",
    "from c2cbet import config\n",
    "from c2cbet.helper import spark\n"
   ]
  },
  {
   "cell_type": "code",
   "execution_count": 17,
   "outputs": [
    {
     "name": "stdout",
     "output_type": "stream",
     "text": [
      "+------------------+-------------------+-----------------+\n",
      "|DESTINATION_PREFIX|DESTINATION_POSTFIX|              CNT|\n",
      "+------------------+-------------------+-----------------+\n",
      "|            505416|               3034|224913.0000000000|\n",
      "|            502229|               9779|140634.0000000000|\n",
      "|            502908|               7650| 67425.0000000000|\n",
      "|            589463|               2187| 58317.0000000000|\n",
      "|            502229|               0821| 56875.0000000000|\n",
      "|            589210|               7745| 46002.0000000000|\n",
      "|            627760|               3348| 41024.0000000000|\n",
      "|            606373|               0193| 32022.0000000000|\n",
      "|            627760|               0605| 30957.0000000000|\n",
      "|            627760|               7659| 29172.0000000000|\n",
      "|            589210|               4985| 27250.0000000000|\n",
      "|            589463|               7328| 26955.0000000000|\n",
      "|            589463|               1460| 25042.0000000000|\n",
      "|            589463|               2928| 24528.0000000000|\n",
      "|            585983|               0782| 23032.0000000000|\n",
      "|            589463|               8893| 22536.0000000000|\n",
      "|            606373|               7748| 22005.0000000000|\n",
      "|            589463|               3216| 21536.0000000000|\n",
      "|            606373|               0243| 18693.0000000000|\n",
      "|            585983|               6408| 17792.0000000000|\n",
      "+------------------+-------------------+-----------------+\n",
      "only showing top 20 rows\n",
      "\n"
     ]
    }
   ],
   "source": [
    "df_dest_card_blacklist = spark.read\\\n",
    "    .options(**config.orcl_10_props)\\\n",
    "    .jdbc(url=config.orcl_10_props['url'], table=\"tmp_c2cbet_dest\")\n",
    "df_dest_card_blacklist.show()"
   ],
   "metadata": {
    "collapsed": false,
    "pycharm": {
     "name": "#%% load dest_card_blacklist\n"
    }
   }
  },
  {
   "cell_type": "code",
   "execution_count": 18,
   "outputs": [
    {
     "name": "stdout",
     "output_type": "stream",
     "text": [
      "{'_id': {'$oid': '5c0c8cb2c849017c0f4e9fe1'}, '_class': 'com.digipay.payprecourse.model.payment.Payment', 'amount': 10000, 'bankTrackingCode': '834307007110', 'creationDate': 1544326322979, 'creditor': {'surname': 'آریا صراف زاده'}, 'debtor': {'userId': '36b18a0b-40f6-42d1-9561-85f0c993f4b5'}, 'destination': {'uid': '87afb800-e371-40f7-ad2c-2de411004fed', 'postfix': '1153', 'prefix': '627412', 'bank': {'code': '055', 'name': 'اقتصاد نوين', 'cardPrefix': '627412', 'uid': '973e0029-a3ac-425a-9658-cb50f219ad51'}, '_class': 'com.digipay.payprecourse.model.card.Card'}, 'exerciseDate': 1544326327161, 'expirationDate': 1544412722979, 'feeCharge': 5000, 'initiator': 'MOBILE', 'ip': '89.221.92.42,172.16.15.25', 'owner': {'userId': '36b18a0b-40f6-42d1-9561-85f0c993f4b5'}, 'productCode': '3', 'reportRelay': True, 'retryCorruptedData': 0, 'source': {'uid': '748c55a0-bc64-49c6-9670-40f2578a29f6', 'postfix': '9174', 'prefix': '505785', 'bank': {'code': '069', 'name': 'ایران زمین', 'cardPrefix': '505785', 'uid': 'bb170434-a944-4c94-9287-0725b7ab5c44'}, '_class': 'com.digipay.payprecourse.model.card.Card'}, 'status': 8, 'trackingCode': '5357932291544326322981', 'type': 'CARD_TRANSFER', 'version': 1}\n"
     ]
    }
   ],
   "source": [
    "c2c_tnx = {\"_id\": {\"$oid\": \"5c0c8cb2c849017c0f4e9fe1\"},\n",
    "        \"_class\": \"com.digipay.payprecourse.model.payment.Payment\",\n",
    "        \"amount\": 10000,\n",
    "        \"bankTrackingCode\": \"834307007110\",\n",
    "        \"creationDate\": 1544326322979,\n",
    "        \"creditor\": {\n",
    "            \"surname\": \"آریا صراف زاده\"\n",
    "        },\n",
    "        \"debtor\": {\n",
    "            \"userId\": \"36b18a0b-40f6-42d1-9561-85f0c993f4b5\"\n",
    "        },\n",
    "        \"destination\": {\n",
    "            \"uid\": \"87afb800-e371-40f7-ad2c-2de411004fed\",\n",
    "            \"postfix\": \"1153\",\n",
    "            \"prefix\": \"627412\",\n",
    "            \"bank\": {\n",
    "                \"code\": \"055\",\n",
    "                \"name\": \"اقتصاد نوين\",\n",
    "                \"cardPrefix\": \"627412\",\n",
    "                \"uid\": \"973e0029-a3ac-425a-9658-cb50f219ad51\"\n",
    "            },\n",
    "            \"_class\": \"com.digipay.payprecourse.model.card.Card\"\n",
    "        },\n",
    "        \"exerciseDate\": 1544326327161,\n",
    "        \"expirationDate\": 1544412722979,\n",
    "        \"feeCharge\": 5000,\n",
    "        \"initiator\": \"MOBILE\",\n",
    "        \"ip\": \"89.221.92.42,172.16.15.25\",\n",
    "        \"owner\": {\n",
    "            \"userId\": \"36b18a0b-40f6-42d1-9561-85f0c993f4b5\"\n",
    "        },\n",
    "        \"productCode\": \"3\",\n",
    "        \"reportRelay\": True,\n",
    "        \"retryCorruptedData\": 0,\n",
    "        \"source\": {\n",
    "            \"uid\": \"748c55a0-bc64-49c6-9670-40f2578a29f6\",\n",
    "            \"postfix\": \"9174\",\n",
    "            \"prefix\": \"505785\",\n",
    "            \"bank\": {\n",
    "                \"code\": \"069\",\n",
    "                \"name\": \"ایران زمین\",\n",
    "                \"cardPrefix\": \"505785\",\n",
    "                \"uid\": \"bb170434-a944-4c94-9287-0725b7ab5c44\"\n",
    "            },\n",
    "            \"_class\": \"com.digipay.payprecourse.model.card.Card\"\n",
    "        },\n",
    "        \"status\": 8,\n",
    "        \"trackingCode\": \"5357932291544326322981\",\n",
    "        \"type\": \"CARD_TRANSFER\",\n",
    "        \"version\": 1\n",
    "    }\n",
    "print(c2c_tnx)\n",
    "dest_card_prefix = c2c_tnx[\"destination\"][\"prefix\"]\n",
    "dest_card_postfix = c2c_tnx[\"destination\"][\"postfix\"]"
   ],
   "metadata": {
    "collapsed": false,
    "pycharm": {
     "name": "#%% sample c2c transaction\n"
    }
   }
  },
  {
   "cell_type": "code",
   "execution_count": 19,
   "outputs": [],
   "source": [
    "dest_card_prefix = \"585983\"\n",
    "dest_card_postfix = \"4823\""
   ],
   "metadata": {
    "collapsed": false,
    "pycharm": {
     "name": "#%%  blacklist destination prefix,postfix\n"
    }
   }
  },
  {
   "cell_type": "code",
   "execution_count": 20,
   "outputs": [
    {
     "name": "stdout",
     "output_type": "stream",
     "text": [
      "IS blacklist\n"
     ]
    }
   ],
   "source": [
    "cnt = df_dest_card_blacklist.where(\"DESTINATION_PREFIX=%s and DESTINATION_POSTFIX=%s\"%(dest_card_prefix,dest_card_postfix)).count()\n",
    "print(\"IS blacklist\" if cnt==1 else \"NOT blacklist\")\n"
   ],
   "metadata": {
    "collapsed": false,
    "pycharm": {
     "name": "#%% dest_card is in blacklist\n"
    }
   }
  },
  {
   "cell_type": "code",
   "execution_count": 21,
   "outputs": [
    {
     "name": "stdout",
     "output_type": "stream",
     "text": [
      "+--------------------+--------------------+\n",
      "|                 KEY|               VALUE|\n",
      "+--------------------+--------------------+\n",
      "|bet_probability_r...|{\"HIGH\":{\"total\":...|\n",
      "+--------------------+--------------------+\n",
      "\n"
     ]
    }
   ],
   "source": [
    "df_c2cbet_setting = spark.read.options(**config.orcl_10_props)\\\n",
    "    .jdbc(url=config.orcl_10_props['url'],table=\"c2cbet_setting\")\n",
    "df_c2cbet_setting.show()"
   ],
   "metadata": {
    "collapsed": false,
    "pycharm": {
     "name": "#%% load c2cbet_setting\n"
    }
   }
  },
  {
   "cell_type": "code",
   "execution_count": 22,
   "outputs": [
    {
     "name": "stdout",
     "output_type": "stream",
     "text": [
      "{\"HIGH\":{\"total\":range(2001,9999999),\"month\":range(1001,9999999),\"day\":range(51,999999)}, \"MID\" :{\"total\":range(1001,2000),\"month\":range(201,1000),\"day\":range(21,50)}, \"LOW\" :{\"total\":range(500,1000),\"month\":range(100,200),\"day\":range(10,20)},}\n",
      "{'HIGH': {'total': range(2001, 9999999), 'month': range(1001, 9999999), 'day': range(51, 999999)}, 'MID': {'total': range(1001, 2000), 'month': range(201, 1000), 'day': range(21, 50)}, 'LOW': {'total': range(500, 1000), 'month': range(100, 200), 'day': range(10, 20)}}\n",
      "range(2001, 9999999)\n"
     ]
    }
   ],
   "source": [
    "bet_probability_ranges_str = df_c2cbet_setting[df_c2cbet_setting.KEY=='bet_probability_ranges'].collect()[0][\"VALUE\"]\n",
    "print(bet_probability_ranges_str)\n",
    "# bet_probability_ranges = json.loads(bet_probability_ranges_str)\n",
    "# bet_probability_ranges = yaml.load(bet_probability_ranges_str,yaml.CUnsafeLoader)\n",
    "bet_probability_ranges = eval(bet_probability_ranges_str)\n",
    "print(bet_probability_ranges)\n",
    "print(bet_probability_ranges[\"HIGH\"][\"total\"])\n"
   ],
   "metadata": {
    "collapsed": false,
    "pycharm": {
     "name": "#%%\n"
    }
   }
  },
  {
   "cell_type": "code",
   "execution_count": 23,
   "outputs": [
    {
     "name": "stdout",
     "output_type": "stream",
     "text": [
      "+------------------+-------------------+----------------+\n",
      "|DESTINATION_PREFIX|DESTINATION_POSTFIX|             CNT|\n",
      "+------------------+-------------------+----------------+\n",
      "|            505416|               9726|11998.0000000000|\n",
      "|            606373|               6209| 9156.0000000000|\n",
      "|            639599|               3326| 8994.0000000000|\n",
      "|            585983|               1399| 7723.0000000000|\n",
      "|            589463|               8635| 7649.0000000000|\n",
      "|            589463|               0276| 7647.0000000000|\n",
      "|            585983|               7356| 7600.0000000000|\n",
      "|            639599|               3315| 7280.0000000000|\n",
      "|            502229|               9054| 6852.0000000000|\n",
      "|            585983|               3788| 6610.0000000000|\n",
      "|            585983|               8602| 6474.0000000000|\n",
      "|            585983|               0252| 6386.0000000000|\n",
      "|            589463|               3095| 6271.0000000000|\n",
      "|            606373|               2538| 6115.0000000000|\n",
      "|            589463|               6901| 6068.0000000000|\n",
      "|            585983|               3784| 5994.0000000000|\n",
      "|            585983|               2590| 5962.0000000000|\n",
      "|            589463|               0035| 5781.0000000000|\n",
      "|            502229|               9841| 5781.0000000000|\n",
      "|            585983|               4197| 5730.0000000000|\n",
      "+------------------+-------------------+----------------+\n",
      "only showing top 20 rows\n",
      "\n"
     ]
    }
   ],
   "source": [
    "df_dest_card_prob_bet = spark.read.options(**config.orcl_10_props)\\\n",
    "    .jdbc(config.orcl_10_props[\"url\"],table=\"tmp_c2cbet_prob\")\n",
    "df_dest_card_prob_bet.show()"
   ],
   "metadata": {
    "collapsed": false,
    "pycharm": {
     "name": "#%% load dest card bet probability\n"
    }
   }
  },
  {
   "cell_type": "code",
   "execution_count": 24,
   "outputs": [],
   "source": [
    "def is_in_probability(tnx_count):\n",
    "    for _level in bet_probability_ranges.keys():\n",
    "        for _time in bet_probability_ranges[_level].keys():\n",
    "            if tnx_count in bet_probability_ranges[_level][_time]:\n",
    "                return _level,_time"
   ],
   "metadata": {
    "collapsed": false,
    "pycharm": {
     "name": "#%% def is in list\n"
    }
   }
  },
  {
   "cell_type": "code",
   "execution_count": 25,
   "outputs": [],
   "source": [
    "dest_card_prefix = \"589463\"\n",
    "dest_card_postfix = \"8635\""
   ],
   "metadata": {
    "collapsed": false,
    "pycharm": {
     "name": "#%%  total prob bet HIGH destination prefix,postfix\n"
    }
   }
  },
  {
   "cell_type": "code",
   "execution_count": 26,
   "outputs": [
    {
     "name": "stdout",
     "output_type": "stream",
     "text": [
      "bet probability is:HIGH\n"
     ]
    }
   ],
   "source": [
    "df = df_dest_card_prob_bet.where(\"DESTINATION_PREFIX=%s and DESTINATION_POSTFIX=%s\"%(dest_card_prefix,dest_card_postfix))\n",
    "if df.count()>0:\n",
    "    tnx_count = df.collect()[0][\"CNT\"]\n",
    "    _level,_time = is_in_probability(tnx_count)\n",
    "    print(\"bet probability is:%s\"%(_level if _level else None))"
   ],
   "metadata": {
    "collapsed": false,
    "pycharm": {
     "name": "#%% dest_card is prob bet total\n"
    }
   }
  },
  {
   "cell_type": "code",
   "execution_count": 27,
   "outputs": [
    {
     "name": "stdout",
     "output_type": "stream",
     "text": [
      "+------------------+-------------------+---------+---------------+\n",
      "|DESTINATION_PREFIX|DESTINATION_POSTFIX|YEARMONTH|            CNT|\n",
      "+------------------+-------------------+---------+---------------+\n",
      "|            585983|               1399|   139911|7686.0000000000|\n",
      "|            585983|               7356|   139911|7542.0000000000|\n",
      "|            585983|               3788|   139909|6554.0000000000|\n",
      "|            585983|               8602|   139909|6433.0000000000|\n",
      "|            585983|               3784|   139911|5968.0000000000|\n",
      "|            585983|               2590|   139909|5833.0000000000|\n",
      "|            639599|               3326|   140008|5699.0000000000|\n",
      "|            585983|               3228|   139909|5302.0000000000|\n",
      "|            585983|               7997|   139909|5181.0000000000|\n",
      "|            502229|               9054|   140008|5163.0000000000|\n",
      "|            606373|               2538|   140008|5094.0000000000|\n",
      "|            585983|               0685|   139909|5052.0000000000|\n",
      "|            639599|               3315|   140008|4917.0000000000|\n",
      "|            585983|               2491|   139909|4845.0000000000|\n",
      "|            585983|               2315|   139911|4761.0000000000|\n",
      "|            505416|               9726|   140008|4690.0000000000|\n",
      "|            585983|               3191|   139908|4671.0000000000|\n",
      "|            585983|               5604|   139909|4583.0000000000|\n",
      "|            585983|               2231|   139911|4430.0000000000|\n",
      "|            606373|               6209|   140009|4425.0000000000|\n",
      "+------------------+-------------------+---------+---------------+\n",
      "only showing top 20 rows\n",
      "\n"
     ]
    }
   ],
   "source": [
    "df_dest_card_prob_bet_month = spark.read.options(**config.orcl_10_props) \\\n",
    "    .jdbc(config.orcl_10_props[\"url\"],table=\"tmp_c2cbet_prob_month\")\n",
    "df_dest_card_prob_bet_month.show()"
   ],
   "metadata": {
    "collapsed": false,
    "pycharm": {
     "name": "#%% load dest card bet probability\n"
    }
   }
  },
  {
   "cell_type": "code",
   "execution_count": 28,
   "outputs": [],
   "source": [
    "dest_card_prefix = \"502229\"\n",
    "dest_card_postfix = \"7516\""
   ],
   "metadata": {
    "collapsed": false,
    "pycharm": {
     "name": "#%%  month prob bet MID/LOW destination prefix,postfix\n"
    }
   }
  },
  {
   "cell_type": "code",
   "execution_count": 29,
   "outputs": [
    {
     "name": "stdout",
     "output_type": "stream",
     "text": [
      "DESTINATION_PREFIX=502229 and DESTINATION_POSTFIX=7516 and yearmonth=140101\n",
      "1 359.0000000000\n",
      "bet probability is:HIGH\n"
     ]
    }
   ],
   "source": [
    "yearmonth= jdatetime.date.today().strftime(\"%Y%m\")\n",
    "clause = \"DESTINATION_PREFIX=%s and DESTINATION_POSTFIX=%s and yearmonth=%s\"%(dest_card_prefix,dest_card_postfix,yearmonth)\n",
    "print(clause)\n",
    "df = df_dest_card_prob_bet_month.where(clause)\n",
    "if df.count()>0:\n",
    "    tnx_count = df.collect()[0][\"CNT\"]\n",
    "    print(df.count(),tnx_count)\n",
    "    _level,_time = is_in_probability(tnx_count)\n",
    "    print(\"bet probability is:%s\"%(_level if _level else None))"
   ],
   "metadata": {
    "collapsed": false,
    "pycharm": {
     "name": "#%% dest_card is prob bet total\n"
    }
   }
  },
  {
   "cell_type": "code",
   "execution_count": 30,
   "outputs": [
    {
     "ename": "Py4JJavaError",
     "evalue": "An error occurred while calling o130.jdbc.\n: java.sql.SQLSyntaxErrorException: ORA-00942: table or view does not exist\n\r\n\tat oracle.jdbc.driver.T4CTTIoer.processError(T4CTTIoer.java:445)\r\n\tat oracle.jdbc.driver.T4CTTIoer.processError(T4CTTIoer.java:396)\r\n\tat oracle.jdbc.driver.T4C8Oall.processError(T4C8Oall.java:879)\r\n\tat oracle.jdbc.driver.T4CTTIfun.receive(T4CTTIfun.java:450)\r\n\tat oracle.jdbc.driver.T4CTTIfun.doRPC(T4CTTIfun.java:192)\r\n\tat oracle.jdbc.driver.T4C8Oall.doOALL(T4C8Oall.java:531)\r\n\tat oracle.jdbc.driver.T4CPreparedStatement.doOall8(T4CPreparedStatement.java:207)\r\n\tat oracle.jdbc.driver.T4CPreparedStatement.executeForDescribe(T4CPreparedStatement.java:884)\r\n\tat oracle.jdbc.driver.OracleStatement.executeMaybeDescribe(OracleStatement.java:1167)\r\n\tat oracle.jdbc.driver.OracleStatement.doExecuteWithTimeout(OracleStatement.java:1289)\r\n\tat oracle.jdbc.driver.OraclePreparedStatement.executeInternal(OraclePreparedStatement.java:3584)\r\n\tat oracle.jdbc.driver.OraclePreparedStatement.executeQuery(OraclePreparedStatement.java:3628)\r\n\tat oracle.jdbc.driver.OraclePreparedStatementWrapper.executeQuery(OraclePreparedStatementWrapper.java:1493)\r\n\tat org.apache.spark.sql.execution.datasources.jdbc.JDBCRDD$.getQueryOutputSchema(JDBCRDD.scala:67)\r\n\tat org.apache.spark.sql.execution.datasources.jdbc.JDBCRDD$.resolveTable(JDBCRDD.scala:57)\r\n\tat org.apache.spark.sql.execution.datasources.jdbc.JDBCRelation$.getSchema(JDBCRelation.scala:239)\r\n\tat org.apache.spark.sql.execution.datasources.jdbc.JdbcRelationProvider.createRelation(JdbcRelationProvider.scala:36)\r\n\tat org.apache.spark.sql.execution.datasources.DataSource.resolveRelation(DataSource.scala:350)\r\n\tat org.apache.spark.sql.DataFrameReader.loadV1Source(DataFrameReader.scala:274)\r\n\tat org.apache.spark.sql.DataFrameReader.$anonfun$load$3(DataFrameReader.scala:245)\r\n\tat scala.Option.getOrElse(Option.scala:189)\r\n\tat org.apache.spark.sql.DataFrameReader.load(DataFrameReader.scala:245)\r\n\tat org.apache.spark.sql.DataFrameReader.load(DataFrameReader.scala:174)\r\n\tat org.apache.spark.sql.DataFrameReader.jdbc(DataFrameReader.scala:294)\r\n\tat java.base/jdk.internal.reflect.NativeMethodAccessorImpl.invoke0(Native Method)\r\n\tat java.base/jdk.internal.reflect.NativeMethodAccessorImpl.invoke(NativeMethodAccessorImpl.java:62)\r\n\tat java.base/jdk.internal.reflect.DelegatingMethodAccessorImpl.invoke(DelegatingMethodAccessorImpl.java:43)\r\n\tat java.base/java.lang.reflect.Method.invoke(Method.java:564)\r\n\tat py4j.reflection.MethodInvoker.invoke(MethodInvoker.java:244)\r\n\tat py4j.reflection.ReflectionEngine.invoke(ReflectionEngine.java:357)\r\n\tat py4j.Gateway.invoke(Gateway.java:282)\r\n\tat py4j.commands.AbstractCommand.invokeMethod(AbstractCommand.java:132)\r\n\tat py4j.commands.CallCommand.execute(CallCommand.java:79)\r\n\tat py4j.ClientServerConnection.waitForCommands(ClientServerConnection.java:182)\r\n\tat py4j.ClientServerConnection.run(ClientServerConnection.java:106)\r\n\tat java.base/java.lang.Thread.run(Thread.java:832)\r\n",
     "output_type": "error",
     "traceback": [
      "\u001B[1;31m---------------------------------------------------------------------------\u001B[0m",
      "\u001B[1;31mPy4JJavaError\u001B[0m                             Traceback (most recent call last)",
      "\u001B[1;32m~\\AppData\\Local\\Temp\\ipykernel_1072\\3289126946.py\u001B[0m in \u001B[0;36m<module>\u001B[1;34m\u001B[0m\n\u001B[1;32m----> 1\u001B[1;33m \u001B[0mdf_dest_card_prob_bet_month\u001B[0m \u001B[1;33m=\u001B[0m \u001B[0mspark\u001B[0m\u001B[1;33m.\u001B[0m\u001B[0mread\u001B[0m\u001B[1;33m.\u001B[0m\u001B[0moptions\u001B[0m\u001B[1;33m(\u001B[0m\u001B[1;33m**\u001B[0m\u001B[0mconfig\u001B[0m\u001B[1;33m.\u001B[0m\u001B[0morcl_10_props\u001B[0m\u001B[1;33m)\u001B[0m\u001B[0;31m\\\u001B[0m\u001B[1;33m\u001B[0m\u001B[1;33m\u001B[0m\u001B[0m\n\u001B[0m\u001B[0;32m      2\u001B[0m     \u001B[1;33m.\u001B[0m\u001B[0mjdbc\u001B[0m\u001B[1;33m(\u001B[0m\u001B[0mconfig\u001B[0m\u001B[1;33m.\u001B[0m\u001B[0morcl_10_props\u001B[0m\u001B[1;33m[\u001B[0m\u001B[1;34m\"url\"\u001B[0m\u001B[1;33m]\u001B[0m\u001B[1;33m,\u001B[0m\u001B[0mtable\u001B[0m\u001B[1;33m=\u001B[0m\u001B[1;34m\"tmp_c2cbet_dest_month\"\u001B[0m\u001B[1;33m)\u001B[0m\u001B[1;33m\u001B[0m\u001B[1;33m\u001B[0m\u001B[0m\n\u001B[0;32m      3\u001B[0m \u001B[0mdf_dest_card_prob_bet_month\u001B[0m\u001B[1;33m.\u001B[0m\u001B[0mshow\u001B[0m\u001B[1;33m(\u001B[0m\u001B[1;33m)\u001B[0m\u001B[1;33m\u001B[0m\u001B[1;33m\u001B[0m\u001B[0m\n\u001B[0;32m      4\u001B[0m \u001B[1;33m\u001B[0m\u001B[0m\n",
      "\u001B[1;32mD:\\app\\python38\\lib\\site-packages\\pyspark\\sql\\readwriter.py\u001B[0m in \u001B[0;36mjdbc\u001B[1;34m(self, url, table, column, lowerBound, upperBound, numPartitions, predicates, properties)\u001B[0m\n\u001B[0;32m    527\u001B[0m             \u001B[0mjpredicates\u001B[0m \u001B[1;33m=\u001B[0m \u001B[0mutils\u001B[0m\u001B[1;33m.\u001B[0m\u001B[0mtoJArray\u001B[0m\u001B[1;33m(\u001B[0m\u001B[0mgateway\u001B[0m\u001B[1;33m,\u001B[0m \u001B[0mgateway\u001B[0m\u001B[1;33m.\u001B[0m\u001B[0mjvm\u001B[0m\u001B[1;33m.\u001B[0m\u001B[0mjava\u001B[0m\u001B[1;33m.\u001B[0m\u001B[0mlang\u001B[0m\u001B[1;33m.\u001B[0m\u001B[0mString\u001B[0m\u001B[1;33m,\u001B[0m \u001B[0mpredicates\u001B[0m\u001B[1;33m)\u001B[0m\u001B[1;33m\u001B[0m\u001B[1;33m\u001B[0m\u001B[0m\n\u001B[0;32m    528\u001B[0m             \u001B[1;32mreturn\u001B[0m \u001B[0mself\u001B[0m\u001B[1;33m.\u001B[0m\u001B[0m_df\u001B[0m\u001B[1;33m(\u001B[0m\u001B[0mself\u001B[0m\u001B[1;33m.\u001B[0m\u001B[0m_jreader\u001B[0m\u001B[1;33m.\u001B[0m\u001B[0mjdbc\u001B[0m\u001B[1;33m(\u001B[0m\u001B[0murl\u001B[0m\u001B[1;33m,\u001B[0m \u001B[0mtable\u001B[0m\u001B[1;33m,\u001B[0m \u001B[0mjpredicates\u001B[0m\u001B[1;33m,\u001B[0m \u001B[0mjprop\u001B[0m\u001B[1;33m)\u001B[0m\u001B[1;33m)\u001B[0m\u001B[1;33m\u001B[0m\u001B[1;33m\u001B[0m\u001B[0m\n\u001B[1;32m--> 529\u001B[1;33m         \u001B[1;32mreturn\u001B[0m \u001B[0mself\u001B[0m\u001B[1;33m.\u001B[0m\u001B[0m_df\u001B[0m\u001B[1;33m(\u001B[0m\u001B[0mself\u001B[0m\u001B[1;33m.\u001B[0m\u001B[0m_jreader\u001B[0m\u001B[1;33m.\u001B[0m\u001B[0mjdbc\u001B[0m\u001B[1;33m(\u001B[0m\u001B[0murl\u001B[0m\u001B[1;33m,\u001B[0m \u001B[0mtable\u001B[0m\u001B[1;33m,\u001B[0m \u001B[0mjprop\u001B[0m\u001B[1;33m)\u001B[0m\u001B[1;33m)\u001B[0m\u001B[1;33m\u001B[0m\u001B[1;33m\u001B[0m\u001B[0m\n\u001B[0m\u001B[0;32m    530\u001B[0m \u001B[1;33m\u001B[0m\u001B[0m\n\u001B[0;32m    531\u001B[0m \u001B[1;33m\u001B[0m\u001B[0m\n",
      "\u001B[1;32mD:\\app\\python38\\lib\\site-packages\\py4j\\java_gateway.py\u001B[0m in \u001B[0;36m__call__\u001B[1;34m(self, *args)\u001B[0m\n\u001B[0;32m   1319\u001B[0m \u001B[1;33m\u001B[0m\u001B[0m\n\u001B[0;32m   1320\u001B[0m         \u001B[0manswer\u001B[0m \u001B[1;33m=\u001B[0m \u001B[0mself\u001B[0m\u001B[1;33m.\u001B[0m\u001B[0mgateway_client\u001B[0m\u001B[1;33m.\u001B[0m\u001B[0msend_command\u001B[0m\u001B[1;33m(\u001B[0m\u001B[0mcommand\u001B[0m\u001B[1;33m)\u001B[0m\u001B[1;33m\u001B[0m\u001B[1;33m\u001B[0m\u001B[0m\n\u001B[1;32m-> 1321\u001B[1;33m         return_value = get_return_value(\n\u001B[0m\u001B[0;32m   1322\u001B[0m             answer, self.gateway_client, self.target_id, self.name)\n\u001B[0;32m   1323\u001B[0m \u001B[1;33m\u001B[0m\u001B[0m\n",
      "\u001B[1;32mD:\\app\\python38\\lib\\site-packages\\pyspark\\sql\\utils.py\u001B[0m in \u001B[0;36mdeco\u001B[1;34m(*a, **kw)\u001B[0m\n\u001B[0;32m    109\u001B[0m     \u001B[1;32mdef\u001B[0m \u001B[0mdeco\u001B[0m\u001B[1;33m(\u001B[0m\u001B[1;33m*\u001B[0m\u001B[0ma\u001B[0m\u001B[1;33m,\u001B[0m \u001B[1;33m**\u001B[0m\u001B[0mkw\u001B[0m\u001B[1;33m)\u001B[0m\u001B[1;33m:\u001B[0m\u001B[1;33m\u001B[0m\u001B[1;33m\u001B[0m\u001B[0m\n\u001B[0;32m    110\u001B[0m         \u001B[1;32mtry\u001B[0m\u001B[1;33m:\u001B[0m\u001B[1;33m\u001B[0m\u001B[1;33m\u001B[0m\u001B[0m\n\u001B[1;32m--> 111\u001B[1;33m             \u001B[1;32mreturn\u001B[0m \u001B[0mf\u001B[0m\u001B[1;33m(\u001B[0m\u001B[1;33m*\u001B[0m\u001B[0ma\u001B[0m\u001B[1;33m,\u001B[0m \u001B[1;33m**\u001B[0m\u001B[0mkw\u001B[0m\u001B[1;33m)\u001B[0m\u001B[1;33m\u001B[0m\u001B[1;33m\u001B[0m\u001B[0m\n\u001B[0m\u001B[0;32m    112\u001B[0m         \u001B[1;32mexcept\u001B[0m \u001B[0mpy4j\u001B[0m\u001B[1;33m.\u001B[0m\u001B[0mprotocol\u001B[0m\u001B[1;33m.\u001B[0m\u001B[0mPy4JJavaError\u001B[0m \u001B[1;32mas\u001B[0m \u001B[0me\u001B[0m\u001B[1;33m:\u001B[0m\u001B[1;33m\u001B[0m\u001B[1;33m\u001B[0m\u001B[0m\n\u001B[0;32m    113\u001B[0m             \u001B[0mconverted\u001B[0m \u001B[1;33m=\u001B[0m \u001B[0mconvert_exception\u001B[0m\u001B[1;33m(\u001B[0m\u001B[0me\u001B[0m\u001B[1;33m.\u001B[0m\u001B[0mjava_exception\u001B[0m\u001B[1;33m)\u001B[0m\u001B[1;33m\u001B[0m\u001B[1;33m\u001B[0m\u001B[0m\n",
      "\u001B[1;32mD:\\app\\python38\\lib\\site-packages\\py4j\\protocol.py\u001B[0m in \u001B[0;36mget_return_value\u001B[1;34m(answer, gateway_client, target_id, name)\u001B[0m\n\u001B[0;32m    324\u001B[0m             \u001B[0mvalue\u001B[0m \u001B[1;33m=\u001B[0m \u001B[0mOUTPUT_CONVERTER\u001B[0m\u001B[1;33m[\u001B[0m\u001B[0mtype\u001B[0m\u001B[1;33m]\u001B[0m\u001B[1;33m(\u001B[0m\u001B[0manswer\u001B[0m\u001B[1;33m[\u001B[0m\u001B[1;36m2\u001B[0m\u001B[1;33m:\u001B[0m\u001B[1;33m]\u001B[0m\u001B[1;33m,\u001B[0m \u001B[0mgateway_client\u001B[0m\u001B[1;33m)\u001B[0m\u001B[1;33m\u001B[0m\u001B[1;33m\u001B[0m\u001B[0m\n\u001B[0;32m    325\u001B[0m             \u001B[1;32mif\u001B[0m \u001B[0manswer\u001B[0m\u001B[1;33m[\u001B[0m\u001B[1;36m1\u001B[0m\u001B[1;33m]\u001B[0m \u001B[1;33m==\u001B[0m \u001B[0mREFERENCE_TYPE\u001B[0m\u001B[1;33m:\u001B[0m\u001B[1;33m\u001B[0m\u001B[1;33m\u001B[0m\u001B[0m\n\u001B[1;32m--> 326\u001B[1;33m                 raise Py4JJavaError(\n\u001B[0m\u001B[0;32m    327\u001B[0m                     \u001B[1;34m\"An error occurred while calling {0}{1}{2}.\\n\"\u001B[0m\u001B[1;33m.\u001B[0m\u001B[1;33m\u001B[0m\u001B[1;33m\u001B[0m\u001B[0m\n\u001B[0;32m    328\u001B[0m                     format(target_id, \".\", name), value)\n",
      "\u001B[1;31mPy4JJavaError\u001B[0m: An error occurred while calling o130.jdbc.\n: java.sql.SQLSyntaxErrorException: ORA-00942: table or view does not exist\n\r\n\tat oracle.jdbc.driver.T4CTTIoer.processError(T4CTTIoer.java:445)\r\n\tat oracle.jdbc.driver.T4CTTIoer.processError(T4CTTIoer.java:396)\r\n\tat oracle.jdbc.driver.T4C8Oall.processError(T4C8Oall.java:879)\r\n\tat oracle.jdbc.driver.T4CTTIfun.receive(T4CTTIfun.java:450)\r\n\tat oracle.jdbc.driver.T4CTTIfun.doRPC(T4CTTIfun.java:192)\r\n\tat oracle.jdbc.driver.T4C8Oall.doOALL(T4C8Oall.java:531)\r\n\tat oracle.jdbc.driver.T4CPreparedStatement.doOall8(T4CPreparedStatement.java:207)\r\n\tat oracle.jdbc.driver.T4CPreparedStatement.executeForDescribe(T4CPreparedStatement.java:884)\r\n\tat oracle.jdbc.driver.OracleStatement.executeMaybeDescribe(OracleStatement.java:1167)\r\n\tat oracle.jdbc.driver.OracleStatement.doExecuteWithTimeout(OracleStatement.java:1289)\r\n\tat oracle.jdbc.driver.OraclePreparedStatement.executeInternal(OraclePreparedStatement.java:3584)\r\n\tat oracle.jdbc.driver.OraclePreparedStatement.executeQuery(OraclePreparedStatement.java:3628)\r\n\tat oracle.jdbc.driver.OraclePreparedStatementWrapper.executeQuery(OraclePreparedStatementWrapper.java:1493)\r\n\tat org.apache.spark.sql.execution.datasources.jdbc.JDBCRDD$.getQueryOutputSchema(JDBCRDD.scala:67)\r\n\tat org.apache.spark.sql.execution.datasources.jdbc.JDBCRDD$.resolveTable(JDBCRDD.scala:57)\r\n\tat org.apache.spark.sql.execution.datasources.jdbc.JDBCRelation$.getSchema(JDBCRelation.scala:239)\r\n\tat org.apache.spark.sql.execution.datasources.jdbc.JdbcRelationProvider.createRelation(JdbcRelationProvider.scala:36)\r\n\tat org.apache.spark.sql.execution.datasources.DataSource.resolveRelation(DataSource.scala:350)\r\n\tat org.apache.spark.sql.DataFrameReader.loadV1Source(DataFrameReader.scala:274)\r\n\tat org.apache.spark.sql.DataFrameReader.$anonfun$load$3(DataFrameReader.scala:245)\r\n\tat scala.Option.getOrElse(Option.scala:189)\r\n\tat org.apache.spark.sql.DataFrameReader.load(DataFrameReader.scala:245)\r\n\tat org.apache.spark.sql.DataFrameReader.load(DataFrameReader.scala:174)\r\n\tat org.apache.spark.sql.DataFrameReader.jdbc(DataFrameReader.scala:294)\r\n\tat java.base/jdk.internal.reflect.NativeMethodAccessorImpl.invoke0(Native Method)\r\n\tat java.base/jdk.internal.reflect.NativeMethodAccessorImpl.invoke(NativeMethodAccessorImpl.java:62)\r\n\tat java.base/jdk.internal.reflect.DelegatingMethodAccessorImpl.invoke(DelegatingMethodAccessorImpl.java:43)\r\n\tat java.base/java.lang.reflect.Method.invoke(Method.java:564)\r\n\tat py4j.reflection.MethodInvoker.invoke(MethodInvoker.java:244)\r\n\tat py4j.reflection.ReflectionEngine.invoke(ReflectionEngine.java:357)\r\n\tat py4j.Gateway.invoke(Gateway.java:282)\r\n\tat py4j.commands.AbstractCommand.invokeMethod(AbstractCommand.java:132)\r\n\tat py4j.commands.CallCommand.execute(CallCommand.java:79)\r\n\tat py4j.ClientServerConnection.waitForCommands(ClientServerConnection.java:182)\r\n\tat py4j.ClientServerConnection.run(ClientServerConnection.java:106)\r\n\tat java.base/java.lang.Thread.run(Thread.java:832)\r\n"
     ]
    }
   ],
   "source": [
    "df_dest_card_prob_bet_month = spark.read.options(**config.orcl_10_props)\\\n",
    "    .jdbc(config.orcl_10_props[\"url\"],table=\"tmp_c2cbet_dest_month\")\n",
    "df_dest_card_prob_bet_month.show()"
   ],
   "metadata": {
    "collapsed": false,
    "pycharm": {
     "name": "#%% load dest card bet probability per month\n"
    }
   }
  },
  {
   "cell_type": "code",
   "execution_count": null,
   "outputs": [],
   "source": [
    "# for k in bet_probability_ranges.keys():\n"
   ],
   "metadata": {
    "collapsed": false,
    "pycharm": {
     "name": "#%% dest_card has probability of bet\n"
    }
   }
  }
 ],
 "metadata": {
  "kernelspec": {
   "display_name": "Python 3",
   "language": "python",
   "name": "python3"
  },
  "language_info": {
   "codemirror_mode": {
    "name": "ipython",
    "version": 2
   },
   "file_extension": ".py",
   "mimetype": "text/x-python",
   "name": "python",
   "nbconvert_exporter": "python",
   "pygments_lexer": "ipython2",
   "version": "2.7.6"
  }
 },
 "nbformat": 4,
 "nbformat_minor": 0
}